import pandas as pd
from itertools import chain
from collections import Counter
import matplotlib as mpl
import matplotlib.pyplot as plt
import numpy as np

mpl.rcParams['font.sans-serif'] = [u'SimHei']
mpl.rcParams['axes.unicode_minus']=False


def check_(x):
    try:
        y = float(x.replace(',', ''))
    except:
        y = x
        
    return y


data = pd.read_csv('../data/591_shop_features.tsv', sep='\t')


data.columns


## area feature
area_data = pd.read_csv('../data/final_output/district_features.csv')


all_features = []
for fea in data['feature']:
    features = []
    [features.extend(i.split('：')) for i in fea.split('；')]
    all_features.extend(features)

cnt = Counter(all_features)


cnt.most_common(15)


data.columns


## Type
#shop_features = data
shop_features = data[['TOWN', 'rental_price', 'size', 'floor', '小巷0/大路1', 'longitude', 'latitude', 'house_age', 'MRT_within_lkm',  'type', '裝潢', '車位',
                        '餐廳餐館', '其他綜合零售', '便利商店', '美容美髮服務', '日常用品零售', '飲料店業']]


one_hot_type = pd.get_dummies(shop_features['type'])
shop_features = shop_features.join(one_hot_type)
shop_features = shop_features.drop('type', axis=1)


ss = {'尚未裝潢': 0, '簡易裝潢': 1, '中檔裝潢': 2, '高檔裝潢': 3}
shop_features['裝潢'] = shop_features['裝潢'].map(lambda x: ss[x])


one_hot_type = pd.get_dummies(shop_features['車位'].map(lambda x: x.split('，')[0]))
shop_features = shop_features.join(one_hot_type)
shop_features = shop_features.drop('車位', axis=1)
shop_features = shop_features.rename(columns={'無': '無車位'})
shop_features = shop_features.drop(columns=['平面式停車位', '機械式停車位'])


shop_features['rental_price'] = shop_features['rental_price'].map(check_)


shop_features.columns


area_features = area_data[['TOWN', '0-14歲人口數', '15-24歲人口數',  '25-39歲人口數', '40-64歲人口數', '65歲以上人口數', 
              'DAY_WORK(7:00~13:00)', 'DAY_WORK(13:00~19:00)', 'NIGHT_WORK', 
              'DAY_WEEKEND(7:00~13:00)', 'DAY_WEEKEND(13:00~19:00)', 'NIGHT_WEEKEND']]
area_features = area_features.set_index('TOWN')


area_features.columns


new_features = []
for index, item in shop_features.iterrows():
    tmp = area_features.loc[item['TOWN']]
    
    new_features.append(pd.concat((item, tmp)))
    #new_features.append(item)
    
new_features = pd.DataFrame(new_features)
new_features = new_features.drop(columns=['TOWN', 'floor'])


new_features = new_features.applymap(check_)


new_features.columns


#new_features.to_csv("591shop_area.tsv", sep="\t", index=None)


new_features['rental_price'] = np.log(new_features['rental_price'])
new_features['size'] = np.log(new_features['size'])


## categorical & numerical
categorical_columns = ['小巷0/大路1', '公寓', '別墅', '店面（店鋪）', '透天厝', '電梯大樓', '無車位']
cate_embedding = new_features[categorical_columns]


embedding = (new_features - new_features.mean()) / new_features.std()
embedding = embedding.drop(columns=categorical_columns)
embedding = pd.concat((embedding, cate_embedding), axis=1)


## Get mean and std
feature_mean = new_features.mean().drop(columns=categorical_columns)
feature_std = new_features.std().drop(columns=categorical_columns)
feature_min = new_features.min().drop(columns=categorical_columns)
feature_max = new_features.max().drop(columns=categorical_columns)


pd.concat((feature_mean, feature_std, feature_min, feature_max),axis=1).rename(columns={0: 'mean', 1: 'std', 2: 'min', 3: 'max'}).drop(index=categorical_columns).to_csv('../data/shop_embedding/embedding_mean_std.csv')


embedding.to_csv('../data/shop_embedding/shop_embedding.csv')


embedding.columns


embedding.hist(figsize=(15, 12))
plt.tight_layout()
plt.show()


from sklearn.metrics.pairwise import cosine_similarity


scores = np.squeeze(cosine_similarity(embedding, embedding.iloc[[0]]))
index = np.argsort(scores)[::-1]
embedding.iloc[index]


from sklearn.manifold import TSNE
from sklearn.decomposition import PCA


pca_results = PCA(n_components=2).fit_transform(embedding)
tsne_results = TSNE(n_components=2, learning_rate='auto', init='pca', random_state=20).fit_transform(embedding)


plt.style.use('ggplot')
plt.figure(figsize=(15, 12))

plt.subplot(1, 2, 1)
sc = plt.scatter(pca_results[:, 0], pca_results[:, 1], alpha=0.8, s=30)#, cmap='rainbow')

sc = plt.scatter(pca_results[0, 0], pca_results[0, 1], alpha=0.8, s=30, color='blue')#, cmap='rainbow')
sc = plt.scatter(pca_results[471, 0], pca_results[471, 1], alpha=0.8, s=30, color='blue')#, cmap='rainbow')

plt.subplot(1, 2, 2)
sc = plt.scatter(tsne_results[:, 0], tsne_results[:, 1], alpha=0.8, s=30)#, cmap='rainbow')

sc = plt.scatter(tsne_results[0, 0], tsne_results[0, 1], alpha=0.8, s=30, color='blue')#, cmap='rainbow')
sc = plt.scatter(tsne_results[471, 0], tsne_results[471, 1], alpha=0.8, s=30, color='blue')#, cmap='rainbow')


plt.show()


import tensorflow as tf



