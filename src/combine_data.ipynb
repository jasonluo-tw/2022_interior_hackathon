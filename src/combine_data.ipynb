{
 "cells": [
  {
   "cell_type": "code",
   "execution_count": 1,
   "id": "7636327e-c265-44b2-ac2e-5d752f2098c3",
   "metadata": {},
   "outputs": [],
   "source": [
    "import pandas as pd\n",
    "from sub import read_signal_data, read_internal_data, extract_cols"
   ]
  },
  {
   "cell_type": "markdown",
   "id": "2247dbc6-cb9e-40c2-9337-dccbce56f995",
   "metadata": {},
   "source": [
    "## process data year 109"
   ]
  },
  {
   "cell_type": "code",
   "execution_count": 2,
   "id": "c924d8d9-a941-4c4a-952b-83fb262ef1ce",
   "metadata": {},
   "outputs": [],
   "source": [
    "## 109 read data\n",
    "signal_data = read_signal_data('臺北市')\n",
    "internal_data = read_internal_data(year='109')\n",
    "## merge signal data\n",
    "combine_data = internal_data.merge(signal_data, on='TOWN_ID')\n",
    "## extract target columns\n",
    "combine_data = extract_cols(combine_data, year='109')\n",
    "\n",
    "## save data\n",
    "combine_data.to_csv('../data/109_combine.csv', index=None)"
   ]
  },
  {
   "cell_type": "code",
   "execution_count": null,
   "id": "e884fb26-f2e5-43f0-bbbd-51081b91fba1",
   "metadata": {},
   "outputs": [],
   "source": []
  },
  {
   "cell_type": "markdown",
   "id": "59735ebb-7167-44ab-98e4-7fe132de7021",
   "metadata": {},
   "source": [
    "## process data year 104-108"
   ]
  },
  {
   "cell_type": "code",
   "execution_count": 3,
   "id": "b70f7389-7e60-43c3-b114-f37e5bc80640",
   "metadata": {},
   "outputs": [],
   "source": [
    "## 104~108 read data\n",
    "for year in range(104, 109):\n",
    "    print('Make', year, 'data')\n",
    "    internal_data = read_internal_data(year=f'{year}')\n",
    "    ## extract target columns\n",
    "    combine_data = extract_cols(combine_data, year=f'{year}')\n",
    "    combine_data.to_csv(f'../data/{year}_combine.csv', index=None)"
   ]
  },
  {
   "cell_type": "code",
   "execution_count": null,
   "id": "2e869b3f-171b-4bb6-b70c-57dfd9656d9c",
   "metadata": {},
   "outputs": [],
   "source": []
  }
 ],
 "metadata": {
  "kernelspec": {
   "display_name": "Python 3 (ipykernel)",
   "language": "python",
   "name": "python3"
  },
  "language_info": {
   "codemirror_mode": {
    "name": "ipython",
    "version": 3
   },
   "file_extension": ".py",
   "mimetype": "text/x-python",
   "name": "python",
   "nbconvert_exporter": "python",
   "pygments_lexer": "ipython3",
   "version": "3.8.10"
  }
 },
 "nbformat": 4,
 "nbformat_minor": 5
}
