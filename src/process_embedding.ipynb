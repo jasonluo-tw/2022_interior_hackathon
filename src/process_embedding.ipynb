{
 "cells": [
  {
   "cell_type": "code",
   "execution_count": 1,
   "id": "05039d16-b3d4-40ee-9dc0-18d6b2e76c96",
   "metadata": {},
   "outputs": [],
   "source": [
    "import pandas as pd\n",
    "import numpy as np\n",
    "import yaml"
   ]
  },
  {
   "cell_type": "code",
   "execution_count": 2,
   "id": "6e635ea6-4020-4155-b931-aa78da6b5759",
   "metadata": {},
   "outputs": [],
   "source": [
    "#不含車位_各屋齡合計棟數\n",
    "#不含車位_各屋齡合計面積\n",
    "#不含車位_各屋齡整體中位數房價\n",
    "#不含車位_店面(店舖)棟數\n",
    "#不含車位_店面(店舖)面積\n",
    "#不含車位_辦公商業大樓棟數\n",
    "#不含車位_辦公商業大樓面積\n",
    "#不含車位_店面(店舖)中位數房價\n",
    "#不含車位_辦公商業大樓中位數房價"
   ]
  },
  {
   "cell_type": "code",
   "execution_count": 3,
   "id": "b7c876be-c093-42cc-97ce-8b199aff708d",
   "metadata": {},
   "outputs": [],
   "source": [
    "## load yaml\n",
    "with open('../tbl/sum_mean.yaml', 'r') as f:\n",
    "    cols = yaml.safe_load(f)\n",
    "    sum_cols = cols['sum']\n",
    "    mean_cols = cols['mean']"
   ]
  },
  {
   "cell_type": "code",
   "execution_count": 4,
   "id": "e26f01f0-d2a6-4e5f-bc9e-aaee14a0b819",
   "metadata": {},
   "outputs": [
    {
     "name": "stdout",
     "output_type": "stream",
     "text": [
      "104\n",
      "105\n",
      "106\n",
      "107\n",
      "108\n",
      "109\n"
     ]
    }
   ],
   "source": [
    "data = pd.read_csv(f'../data/109_combine.csv')\n",
    "data = data.drop(columns=['土地面積總數', '商業', '純住宅', '混合使用住宅'])\n",
    "\n",
    "for year in range(104, 110):\n",
    "    print(year)\n",
    "    tmp = pd.read_csv(f'../data/{year}_combine.csv')\n",
    "    tmp[f'house_price_per'] = tmp['不含車位_各屋齡整體中位數房價'] * tmp['不含車位_各屋齡合計棟數'] / (tmp['不含車位_各屋齡合計面積'] + 1e-7)\n",
    "    tmp[f'shop_price_per'] = tmp['不含車位_店面(店舖)中位數房價'] * tmp['不含車位_店面(店舖)棟數'] / (tmp['不含車位_店面(店舖)面積'] + 1e-7)\n",
    "    tmp[f'office_price_per'] = tmp['不含車位_辦公商業大樓中位數房價'] * tmp['不含車位_辦公商業大樓棟數'] / (tmp['不含車位_辦公商業大樓面積'] + 1e-7)\n",
    "    ###\n",
    "    data[f'house_price_unit_{year}'] = tmp['house_price_per'].replace(0, np.nan)\n",
    "    data[f'shop_price_unit_{year}'] = tmp['shop_price_per'].replace(0, np.nan)\n",
    "    data[f'office_price_unit_{year}'] = tmp['office_price_per'].replace(0, np.nan)\n",
    "    ## Get 土地面積\n",
    "    if year == 108:\n",
    "        #二級發布區代碼\n",
    "        #一級發布區代碼\n",
    "        #最小統計區代碼\n",
    "        land_use108 = tmp[['最小統計區代碼', '土地面積總數', '商業', '純住宅', '混合使用住宅']]"
   ]
  },
  {
   "cell_type": "code",
   "execution_count": 5,
   "id": "ea6a9ccd-598d-43b4-84be-fe682f5ee86c",
   "metadata": {},
   "outputs": [],
   "source": [
    "data = data.merge(land_use108, on='最小統計區代碼')"
   ]
  },
  {
   "cell_type": "code",
   "execution_count": 6,
   "id": "416b5e50-dbef-484f-bac9-c508719923df",
   "metadata": {},
   "outputs": [],
   "source": [
    "## TOWN, 二級發布區代碼, 一級發布區代碼\t\n",
    "test = 'TOWN'\n",
    "sum_data = data[sum_cols+[test]].groupby(test).sum()\n",
    "mean_data = data[mean_cols+[test]].groupby(test).mean()\n",
    "out_data = sum_data.merge(mean_data, left_index=True, right_index=True)"
   ]
  },
  {
   "cell_type": "code",
   "execution_count": 7,
   "id": "b8717262-2fbf-4707-9ab2-093100db438f",
   "metadata": {},
   "outputs": [],
   "source": [
    "## output to final data folder\n",
    "out_data.to_csv('../data/final_output/district_features.csv')"
   ]
  },
  {
   "cell_type": "markdown",
   "id": "0fdff50c-9ccc-41ff-8b0c-fc4c0075a048",
   "metadata": {},
   "source": [
    "## Test simple embedding"
   ]
  },
  {
   "cell_type": "code",
   "execution_count": 8,
   "id": "f5c17dc8-81e3-40af-b4d2-704917f3353f",
   "metadata": {},
   "outputs": [],
   "source": [
    "## Get dictionary\n",
    "\n",
    "if test == 'TOWN':\n",
    "    dicts = dict([(i, i) for i in list(mean_data.index)])\n",
    "else:\n",
    "    dicts = data[[test, 'TOWN']].drop_duplicates([test]).set_index(test).to_dict()['TOWN']\n",
    "\n",
    "#print(dicts)\n",
    "town2idx = dict([(j, i) for i, j in enumerate(set(dicts.values()))])\n"
   ]
  },
  {
   "cell_type": "code",
   "execution_count": 9,
   "id": "da55f69f-a601-4eb6-93ae-dbb0d82fe6db",
   "metadata": {},
   "outputs": [
    {
     "ename": "KeyError",
     "evalue": "\"['不含車位_各屋齡整體中位數房價', '不含車位_各屋齡合計棟數', '不含車位_各屋齡合計面積', '不含車位_店面(店舖)中位數房價', '不含車位_店面(店舖)棟數', '不含車位_店面(店舖)面積', '不含車位_辦公商業大樓中位數房價', '不含車位_辦公商業大樓棟數', '不含車位_辦公商業大樓面積'] not found in axis\"",
     "output_type": "error",
     "traceback": [
      "\u001b[0;31m---------------------------------------------------------------------------\u001b[0m",
      "\u001b[0;31mKeyError\u001b[0m                                  Traceback (most recent call last)",
      "Input \u001b[0;32mIn [9]\u001b[0m, in \u001b[0;36m<cell line: 1>\u001b[0;34m()\u001b[0m\n\u001b[0;32m----> 1\u001b[0m mean_data \u001b[38;5;241m=\u001b[39m \u001b[43mmean_data\u001b[49m\u001b[38;5;241;43m.\u001b[39;49m\u001b[43mdrop\u001b[49m\u001b[43m(\u001b[49m\u001b[43mcolumns\u001b[49m\u001b[38;5;241;43m=\u001b[39;49m\u001b[43m[\u001b[49m\u001b[38;5;124;43m'\u001b[39;49m\u001b[38;5;124;43m不含車位_各屋齡整體中位數房價\u001b[39;49m\u001b[38;5;124;43m'\u001b[39;49m\u001b[43m,\u001b[49m\u001b[43m \u001b[49m\u001b[38;5;124;43m'\u001b[39;49m\u001b[38;5;124;43m不含車位_各屋齡合計棟數\u001b[39;49m\u001b[38;5;124;43m'\u001b[39;49m\u001b[43m,\u001b[49m\u001b[43m \u001b[49m\u001b[38;5;124;43m'\u001b[39;49m\u001b[38;5;124;43m不含車位_各屋齡合計面積\u001b[39;49m\u001b[38;5;124;43m'\u001b[39;49m\u001b[43m,\u001b[49m\n\u001b[1;32m      2\u001b[0m \u001b[43m                                                                                      \u001b[49m\u001b[38;5;124;43m'\u001b[39;49m\u001b[38;5;124;43m不含車位_店面(店舖)中位數房價\u001b[39;49m\u001b[38;5;124;43m'\u001b[39;49m\u001b[43m,\u001b[49m\u001b[43m \u001b[49m\u001b[38;5;124;43m'\u001b[39;49m\u001b[38;5;124;43m不含車位_店面(店舖)棟數\u001b[39;49m\u001b[38;5;124;43m'\u001b[39;49m\u001b[43m,\u001b[49m\u001b[43m \u001b[49m\u001b[38;5;124;43m'\u001b[39;49m\u001b[38;5;124;43m不含車位_店面(店舖)面積\u001b[39;49m\u001b[38;5;124;43m'\u001b[39;49m\u001b[43m,\u001b[49m\n\u001b[1;32m      3\u001b[0m \u001b[43m                                                                                      \u001b[49m\u001b[38;5;124;43m'\u001b[39;49m\u001b[38;5;124;43m不含車位_辦公商業大樓中位數房價\u001b[39;49m\u001b[38;5;124;43m'\u001b[39;49m\u001b[43m,\u001b[49m\u001b[43m \u001b[49m\u001b[38;5;124;43m'\u001b[39;49m\u001b[38;5;124;43m不含車位_辦公商業大樓棟數\u001b[39;49m\u001b[38;5;124;43m'\u001b[39;49m\u001b[43m,\u001b[49m\u001b[43m \u001b[49m\u001b[38;5;124;43m'\u001b[39;49m\u001b[38;5;124;43m不含車位_辦公商業大樓面積\u001b[39;49m\u001b[38;5;124;43m'\u001b[39;49m\u001b[43m]\u001b[49m\u001b[43m)\u001b[49m\n",
      "File \u001b[0;32m~/anaconda3/envs/py38/lib/python3.8/site-packages/pandas/util/_decorators.py:311\u001b[0m, in \u001b[0;36mdeprecate_nonkeyword_arguments.<locals>.decorate.<locals>.wrapper\u001b[0;34m(*args, **kwargs)\u001b[0m\n\u001b[1;32m    305\u001b[0m \u001b[38;5;28;01mif\u001b[39;00m \u001b[38;5;28mlen\u001b[39m(args) \u001b[38;5;241m>\u001b[39m num_allow_args:\n\u001b[1;32m    306\u001b[0m     warnings\u001b[38;5;241m.\u001b[39mwarn(\n\u001b[1;32m    307\u001b[0m         msg\u001b[38;5;241m.\u001b[39mformat(arguments\u001b[38;5;241m=\u001b[39marguments),\n\u001b[1;32m    308\u001b[0m         \u001b[38;5;167;01mFutureWarning\u001b[39;00m,\n\u001b[1;32m    309\u001b[0m         stacklevel\u001b[38;5;241m=\u001b[39mstacklevel,\n\u001b[1;32m    310\u001b[0m     )\n\u001b[0;32m--> 311\u001b[0m \u001b[38;5;28;01mreturn\u001b[39;00m \u001b[43mfunc\u001b[49m\u001b[43m(\u001b[49m\u001b[38;5;241;43m*\u001b[39;49m\u001b[43margs\u001b[49m\u001b[43m,\u001b[49m\u001b[43m \u001b[49m\u001b[38;5;241;43m*\u001b[39;49m\u001b[38;5;241;43m*\u001b[39;49m\u001b[43mkwargs\u001b[49m\u001b[43m)\u001b[49m\n",
      "File \u001b[0;32m~/anaconda3/envs/py38/lib/python3.8/site-packages/pandas/core/frame.py:4954\u001b[0m, in \u001b[0;36mDataFrame.drop\u001b[0;34m(self, labels, axis, index, columns, level, inplace, errors)\u001b[0m\n\u001b[1;32m   4806\u001b[0m \u001b[38;5;129m@deprecate_nonkeyword_arguments\u001b[39m(version\u001b[38;5;241m=\u001b[39m\u001b[38;5;28;01mNone\u001b[39;00m, allowed_args\u001b[38;5;241m=\u001b[39m[\u001b[38;5;124m\"\u001b[39m\u001b[38;5;124mself\u001b[39m\u001b[38;5;124m\"\u001b[39m, \u001b[38;5;124m\"\u001b[39m\u001b[38;5;124mlabels\u001b[39m\u001b[38;5;124m\"\u001b[39m])\n\u001b[1;32m   4807\u001b[0m \u001b[38;5;28;01mdef\u001b[39;00m \u001b[38;5;21mdrop\u001b[39m(\n\u001b[1;32m   4808\u001b[0m     \u001b[38;5;28mself\u001b[39m,\n\u001b[0;32m   (...)\u001b[0m\n\u001b[1;32m   4815\u001b[0m     errors: \u001b[38;5;28mstr\u001b[39m \u001b[38;5;241m=\u001b[39m \u001b[38;5;124m\"\u001b[39m\u001b[38;5;124mraise\u001b[39m\u001b[38;5;124m\"\u001b[39m,\n\u001b[1;32m   4816\u001b[0m ):\n\u001b[1;32m   4817\u001b[0m     \u001b[38;5;124;03m\"\"\"\u001b[39;00m\n\u001b[1;32m   4818\u001b[0m \u001b[38;5;124;03m    Drop specified labels from rows or columns.\u001b[39;00m\n\u001b[1;32m   4819\u001b[0m \n\u001b[0;32m   (...)\u001b[0m\n\u001b[1;32m   4952\u001b[0m \u001b[38;5;124;03m            weight  1.0     0.8\u001b[39;00m\n\u001b[1;32m   4953\u001b[0m \u001b[38;5;124;03m    \"\"\"\u001b[39;00m\n\u001b[0;32m-> 4954\u001b[0m     \u001b[38;5;28;01mreturn\u001b[39;00m \u001b[38;5;28;43msuper\u001b[39;49m\u001b[43m(\u001b[49m\u001b[43m)\u001b[49m\u001b[38;5;241;43m.\u001b[39;49m\u001b[43mdrop\u001b[49m\u001b[43m(\u001b[49m\n\u001b[1;32m   4955\u001b[0m \u001b[43m        \u001b[49m\u001b[43mlabels\u001b[49m\u001b[38;5;241;43m=\u001b[39;49m\u001b[43mlabels\u001b[49m\u001b[43m,\u001b[49m\n\u001b[1;32m   4956\u001b[0m \u001b[43m        \u001b[49m\u001b[43maxis\u001b[49m\u001b[38;5;241;43m=\u001b[39;49m\u001b[43maxis\u001b[49m\u001b[43m,\u001b[49m\n\u001b[1;32m   4957\u001b[0m \u001b[43m        \u001b[49m\u001b[43mindex\u001b[49m\u001b[38;5;241;43m=\u001b[39;49m\u001b[43mindex\u001b[49m\u001b[43m,\u001b[49m\n\u001b[1;32m   4958\u001b[0m \u001b[43m        \u001b[49m\u001b[43mcolumns\u001b[49m\u001b[38;5;241;43m=\u001b[39;49m\u001b[43mcolumns\u001b[49m\u001b[43m,\u001b[49m\n\u001b[1;32m   4959\u001b[0m \u001b[43m        \u001b[49m\u001b[43mlevel\u001b[49m\u001b[38;5;241;43m=\u001b[39;49m\u001b[43mlevel\u001b[49m\u001b[43m,\u001b[49m\n\u001b[1;32m   4960\u001b[0m \u001b[43m        \u001b[49m\u001b[43minplace\u001b[49m\u001b[38;5;241;43m=\u001b[39;49m\u001b[43minplace\u001b[49m\u001b[43m,\u001b[49m\n\u001b[1;32m   4961\u001b[0m \u001b[43m        \u001b[49m\u001b[43merrors\u001b[49m\u001b[38;5;241;43m=\u001b[39;49m\u001b[43merrors\u001b[49m\u001b[43m,\u001b[49m\n\u001b[1;32m   4962\u001b[0m \u001b[43m    \u001b[49m\u001b[43m)\u001b[49m\n",
      "File \u001b[0;32m~/anaconda3/envs/py38/lib/python3.8/site-packages/pandas/core/generic.py:4267\u001b[0m, in \u001b[0;36mNDFrame.drop\u001b[0;34m(self, labels, axis, index, columns, level, inplace, errors)\u001b[0m\n\u001b[1;32m   4265\u001b[0m \u001b[38;5;28;01mfor\u001b[39;00m axis, labels \u001b[38;5;129;01min\u001b[39;00m axes\u001b[38;5;241m.\u001b[39mitems():\n\u001b[1;32m   4266\u001b[0m     \u001b[38;5;28;01mif\u001b[39;00m labels \u001b[38;5;129;01mis\u001b[39;00m \u001b[38;5;129;01mnot\u001b[39;00m \u001b[38;5;28;01mNone\u001b[39;00m:\n\u001b[0;32m-> 4267\u001b[0m         obj \u001b[38;5;241m=\u001b[39m \u001b[43mobj\u001b[49m\u001b[38;5;241;43m.\u001b[39;49m\u001b[43m_drop_axis\u001b[49m\u001b[43m(\u001b[49m\u001b[43mlabels\u001b[49m\u001b[43m,\u001b[49m\u001b[43m \u001b[49m\u001b[43maxis\u001b[49m\u001b[43m,\u001b[49m\u001b[43m \u001b[49m\u001b[43mlevel\u001b[49m\u001b[38;5;241;43m=\u001b[39;49m\u001b[43mlevel\u001b[49m\u001b[43m,\u001b[49m\u001b[43m \u001b[49m\u001b[43merrors\u001b[49m\u001b[38;5;241;43m=\u001b[39;49m\u001b[43merrors\u001b[49m\u001b[43m)\u001b[49m\n\u001b[1;32m   4269\u001b[0m \u001b[38;5;28;01mif\u001b[39;00m inplace:\n\u001b[1;32m   4270\u001b[0m     \u001b[38;5;28mself\u001b[39m\u001b[38;5;241m.\u001b[39m_update_inplace(obj)\n",
      "File \u001b[0;32m~/anaconda3/envs/py38/lib/python3.8/site-packages/pandas/core/generic.py:4311\u001b[0m, in \u001b[0;36mNDFrame._drop_axis\u001b[0;34m(self, labels, axis, level, errors, consolidate, only_slice)\u001b[0m\n\u001b[1;32m   4309\u001b[0m         new_axis \u001b[38;5;241m=\u001b[39m axis\u001b[38;5;241m.\u001b[39mdrop(labels, level\u001b[38;5;241m=\u001b[39mlevel, errors\u001b[38;5;241m=\u001b[39merrors)\n\u001b[1;32m   4310\u001b[0m     \u001b[38;5;28;01melse\u001b[39;00m:\n\u001b[0;32m-> 4311\u001b[0m         new_axis \u001b[38;5;241m=\u001b[39m \u001b[43maxis\u001b[49m\u001b[38;5;241;43m.\u001b[39;49m\u001b[43mdrop\u001b[49m\u001b[43m(\u001b[49m\u001b[43mlabels\u001b[49m\u001b[43m,\u001b[49m\u001b[43m \u001b[49m\u001b[43merrors\u001b[49m\u001b[38;5;241;43m=\u001b[39;49m\u001b[43merrors\u001b[49m\u001b[43m)\u001b[49m\n\u001b[1;32m   4312\u001b[0m     indexer \u001b[38;5;241m=\u001b[39m axis\u001b[38;5;241m.\u001b[39mget_indexer(new_axis)\n\u001b[1;32m   4314\u001b[0m \u001b[38;5;66;03m# Case for non-unique axis\u001b[39;00m\n\u001b[1;32m   4315\u001b[0m \u001b[38;5;28;01melse\u001b[39;00m:\n",
      "File \u001b[0;32m~/anaconda3/envs/py38/lib/python3.8/site-packages/pandas/core/indexes/base.py:6644\u001b[0m, in \u001b[0;36mIndex.drop\u001b[0;34m(self, labels, errors)\u001b[0m\n\u001b[1;32m   6642\u001b[0m \u001b[38;5;28;01mif\u001b[39;00m mask\u001b[38;5;241m.\u001b[39many():\n\u001b[1;32m   6643\u001b[0m     \u001b[38;5;28;01mif\u001b[39;00m errors \u001b[38;5;241m!=\u001b[39m \u001b[38;5;124m\"\u001b[39m\u001b[38;5;124mignore\u001b[39m\u001b[38;5;124m\"\u001b[39m:\n\u001b[0;32m-> 6644\u001b[0m         \u001b[38;5;28;01mraise\u001b[39;00m \u001b[38;5;167;01mKeyError\u001b[39;00m(\u001b[38;5;124mf\u001b[39m\u001b[38;5;124m\"\u001b[39m\u001b[38;5;132;01m{\u001b[39;00m\u001b[38;5;28mlist\u001b[39m(labels[mask])\u001b[38;5;132;01m}\u001b[39;00m\u001b[38;5;124m not found in axis\u001b[39m\u001b[38;5;124m\"\u001b[39m)\n\u001b[1;32m   6645\u001b[0m     indexer \u001b[38;5;241m=\u001b[39m indexer[\u001b[38;5;241m~\u001b[39mmask]\n\u001b[1;32m   6646\u001b[0m \u001b[38;5;28;01mreturn\u001b[39;00m \u001b[38;5;28mself\u001b[39m\u001b[38;5;241m.\u001b[39mdelete(indexer)\n",
      "\u001b[0;31mKeyError\u001b[0m: \"['不含車位_各屋齡整體中位數房價', '不含車位_各屋齡合計棟數', '不含車位_各屋齡合計面積', '不含車位_店面(店舖)中位數房價', '不含車位_店面(店舖)棟數', '不含車位_店面(店舖)面積', '不含車位_辦公商業大樓中位數房價', '不含車位_辦公商業大樓棟數', '不含車位_辦公商業大樓面積'] not found in axis\""
     ]
    }
   ],
   "source": [
    "mean_data = mean_data.drop(columns=['不含車位_各屋齡整體中位數房價', '不含車位_各屋齡合計棟數', '不含車位_各屋齡合計面積',\n",
    "                                                                                      '不含車位_店面(店舖)中位數房價', '不含車位_店面(店舖)棟數', '不含車位_店面(店舖)面積',\n",
    "                                                                                      '不含車位_辦公商業大樓中位數房價', '不含車位_辦公商業大樓棟數', '不含車位_辦公商業大樓面積'])"
   ]
  },
  {
   "cell_type": "code",
   "execution_count": null,
   "id": "9199ca7b-05bf-4362-800f-8e8479ca8630",
   "metadata": {},
   "outputs": [],
   "source": [
    "embedding = mean_data.iloc[:, 6:]\n",
    "## min/max normalization\n",
    "#embedding = (embedding - embedding.min()) / (embedding.max() - embedding.min())\n",
    "## standardization\n",
    "embedding = (embedding - embedding.mean()) / embedding.std()\n",
    "\n",
    "## fill na\n",
    "embedding = embedding.fillna(0)\n",
    "## Test\n",
    "embedding = embedding.apply(lambda x: x / np.sqrt(np.sum(x**2)), axis=1)"
   ]
  },
  {
   "cell_type": "code",
   "execution_count": null,
   "id": "c7804543-156c-4058-8a09-084019235ef4",
   "metadata": {},
   "outputs": [],
   "source": [
    "from sklearn.metrics.pairwise import cosine_similarity"
   ]
  },
  {
   "cell_type": "code",
   "execution_count": null,
   "id": "eb42b00a-5987-4f86-876d-683beea7f76b",
   "metadata": {},
   "outputs": [],
   "source": [
    "scores = np.squeeze(cosine_similarity(embedding, embedding.loc[['內湖區']]))\n",
    "index = np.argsort(scores)[::-1]"
   ]
  },
  {
   "cell_type": "code",
   "execution_count": null,
   "id": "cf501f92-dfa2-44da-b00d-a1c3e4c551b2",
   "metadata": {},
   "outputs": [],
   "source": [
    "print(scores[index])\n",
    "embedding.iloc[index]"
   ]
  },
  {
   "cell_type": "code",
   "execution_count": null,
   "id": "824d0d3f-8e71-4155-849a-37e89a0dedaf",
   "metadata": {},
   "outputs": [],
   "source": [
    "from sklearn.manifold import TSNE\n",
    "from sklearn.decomposition import PCA\n",
    "import matplotlib.pyplot as plt\n",
    "import matplotlib as mpl\n",
    "mpl.rcParams['font.sans-serif'] = [u'SimHei']\n",
    "mpl.rcParams['axes.unicode_minus']=False"
   ]
  },
  {
   "cell_type": "code",
   "execution_count": null,
   "id": "c248db18-0f0a-4d82-a613-fa448106e995",
   "metadata": {},
   "outputs": [],
   "source": [
    "tsne_results = TSNE(n_components=2, learning_rate='auto', init='pca', random_state=10).fit_transform(embedding)\n",
    "pca_results = PCA(n_components=2).fit_transform(embedding)"
   ]
  },
  {
   "cell_type": "code",
   "execution_count": null,
   "id": "68c7e54d-6f6a-4665-bd6e-d1a4cbbbb06b",
   "metadata": {},
   "outputs": [],
   "source": [
    "colors = embedding.index.map(lambda x: town2idx[dicts[x]])"
   ]
  },
  {
   "cell_type": "code",
   "execution_count": null,
   "id": "86c43e12-e804-4b19-8ea8-793636209740",
   "metadata": {},
   "outputs": [],
   "source": [
    "plt.style.use('ggplot')\n",
    "plt.figure(figsize=(10, 8))\n",
    "\n",
    "sc = plt.scatter(pca_results[:, 0], pca_results[:, 1], alpha=0.8, s=30, c=colors)#, cmap='rainbow')\n",
    "for index, pt in enumerate(pca_results):\n",
    "    plt.text(pt[0], pt[1], list(embedding.index)[index])\n",
    "    \n",
    "plt.legend(sc.legend_elements()[0], town2idx.keys(), title=\"DISTRICT\")\n",
    "plt.show()"
   ]
  },
  {
   "cell_type": "code",
   "execution_count": 1,
   "id": "43afea04-58d8-4779-a71d-d408f00eecb7",
   "metadata": {},
   "outputs": [],
   "source": []
  },
  {
   "cell_type": "code",
   "execution_count": null,
   "id": "6faeedf4-3bba-42db-b3c0-8b3508f8db29",
   "metadata": {},
   "outputs": [],
   "source": []
  }
 ],
 "metadata": {
  "kernelspec": {
   "display_name": "Python 3 (ipykernel)",
   "language": "python",
   "name": "python3"
  },
  "language_info": {
   "codemirror_mode": {
    "name": "ipython",
    "version": 3
   },
   "file_extension": ".py",
   "mimetype": "text/x-python",
   "name": "python",
   "nbconvert_exporter": "python",
   "pygments_lexer": "ipython3",
   "version": "3.8.10"
  }
 },
 "nbformat": 4,
 "nbformat_minor": 5
}
