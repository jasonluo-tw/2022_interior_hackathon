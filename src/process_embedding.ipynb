{
 "cells": [
  {
   "cell_type": "code",
   "execution_count": 1,
   "id": "05039d16-b3d4-40ee-9dc0-18d6b2e76c96",
   "metadata": {},
   "outputs": [],
   "source": [
    "import pandas as pd\n",
    "import numpy as np"
   ]
  },
  {
   "cell_type": "code",
   "execution_count": 2,
   "id": "6e635ea6-4020-4155-b931-aa78da6b5759",
   "metadata": {},
   "outputs": [],
   "source": [
    "#不含車位_各屋齡合計棟數\n",
    "#不含車位_各屋齡合計面積\n",
    "#不含車位_各屋齡整體中位數房價\n",
    "#不含車位_店面(店舖)棟數\n",
    "#不含車位_店面(店舖)面積\n",
    "#不含車位_辦公商業大樓棟數\n",
    "#不含車位_辦公商業大樓面積\n",
    "#不含車位_店面(店舖)中位數房價\n",
    "#不含車位_辦公商業大樓中位數房價"
   ]
  },
  {
   "cell_type": "code",
   "execution_count": 3,
   "id": "e26f01f0-d2a6-4e5f-bc9e-aaee14a0b819",
   "metadata": {},
   "outputs": [
    {
     "name": "stdout",
     "output_type": "stream",
     "text": [
      "104\n",
      "105\n",
      "106\n",
      "107\n",
      "108\n",
      "109\n"
     ]
    }
   ],
   "source": [
    "data = pd.read_csv(f'../data/109_combine.csv')\n",
    "for year in range(104, 110):\n",
    "    print(year)\n",
    "    tmp = pd.read_csv(f'../data/{year}_combine.csv')\n",
    "    tmp[f'house_price_per'] = tmp['不含車位_各屋齡整體中位數房價'] * tmp['不含車位_各屋齡合計棟數'] / (tmp['不含車位_各屋齡合計面積'] + 1e-7)\n",
    "    tmp[f'shop_price_per'] = tmp['不含車位_店面(店舖)中位數房價'] * tmp['不含車位_店面(店舖)棟數'] / (tmp['不含車位_店面(店舖)面積'] + 1e-7)\n",
    "    tmp[f'office_price_per'] = tmp['不含車位_辦公商業大樓中位數房價'] * tmp['不含車位_辦公商業大樓棟數'] / (tmp['不含車位_辦公商業大樓面積'] + 1e-7)\n",
    "    ###\n",
    "    data[f'house_price_unit_{year}'] = tmp['house_price_per'].replace(0, np.nan)\n",
    "    data[f'shop_price_unit_{year}'] = tmp['shop_price_per'].replace(0, np.nan)\n",
    "    data[f'office_price_unit_{year}'] = tmp['office_price_per'].replace(0, np.nan)\n"
   ]
  },
  {
   "cell_type": "code",
   "execution_count": 4,
   "id": "416b5e50-dbef-484f-bac9-c508719923df",
   "metadata": {},
   "outputs": [],
   "source": [
    "## TOWN, 二級發布區代碼, 一級發布區代碼\t\n",
    "test = 'TOWN'\n",
    "mean_data = data.groupby(test).mean()\n",
    "sum_data = data.groupby(test).sum()"
   ]
  },
  {
   "cell_type": "code",
   "execution_count": 6,
   "id": "b8717262-2fbf-4707-9ab2-093100db438f",
   "metadata": {},
   "outputs": [],
   "source": [
    "## output to final data folder\n",
    "mean_data.to_csv('../data/final_output/district_mean_data.csv')\n",
    "sum_data.to_csv('../data/final_output/district_sum_data.csv')"
   ]
  },
  {
   "cell_type": "markdown",
   "id": "0fdff50c-9ccc-41ff-8b0c-fc4c0075a048",
   "metadata": {},
   "source": [
    "## Test simple embedding"
   ]
  },
  {
   "cell_type": "code",
   "execution_count": null,
   "id": "f5c17dc8-81e3-40af-b4d2-704917f3353f",
   "metadata": {},
   "outputs": [],
   "source": [
    "## Get dictionary\n",
    "\n",
    "if test == 'TOWN':\n",
    "    dicts = dict([(i, i) for i in list(mean_data.index)])\n",
    "else:\n",
    "    dicts = data[[test, 'TOWN']].drop_duplicates([test]).set_index(test).to_dict()['TOWN']\n",
    "\n",
    "#print(dicts)\n",
    "town2idx = dict([(j, i) for i, j in enumerate(set(dicts.values()))])\n"
   ]
  },
  {
   "cell_type": "code",
   "execution_count": null,
   "id": "da55f69f-a601-4eb6-93ae-dbb0d82fe6db",
   "metadata": {},
   "outputs": [],
   "source": [
    "mean_data = mean_data.drop(columns=['不含車位_各屋齡整體中位數房價', '不含車位_各屋齡合計棟數', '不含車位_各屋齡合計面積',\n",
    "                                                                                      '不含車位_店面(店舖)中位數房價', '不含車位_店面(店舖)棟數', '不含車位_店面(店舖)面積',\n",
    "                                                                                      '不含車位_辦公商業大樓中位數房價', '不含車位_辦公商業大樓棟數', '不含車位_辦公商業大樓面積'])"
   ]
  },
  {
   "cell_type": "code",
   "execution_count": null,
   "id": "9199ca7b-05bf-4362-800f-8e8479ca8630",
   "metadata": {},
   "outputs": [],
   "source": [
    "embedding = mean_data.iloc[:, 6:]\n",
    "## min/max normalization\n",
    "#embedding = (embedding - embedding.min()) / (embedding.max() - embedding.min())\n",
    "## standardization\n",
    "embedding = (embedding - embedding.mean()) / embedding.std()\n",
    "\n",
    "## fill na\n",
    "embedding = embedding.fillna(0)\n",
    "## Test\n",
    "embedding = embedding.apply(lambda x: x / np.sqrt(np.sum(x**2)), axis=1)"
   ]
  },
  {
   "cell_type": "code",
   "execution_count": null,
   "id": "c7804543-156c-4058-8a09-084019235ef4",
   "metadata": {},
   "outputs": [],
   "source": [
    "from sklearn.metrics.pairwise import cosine_similarity"
   ]
  },
  {
   "cell_type": "code",
   "execution_count": null,
   "id": "eb42b00a-5987-4f86-876d-683beea7f76b",
   "metadata": {},
   "outputs": [],
   "source": [
    "scores = np.squeeze(cosine_similarity(embedding, embedding.loc[['內湖區']]))\n",
    "index = np.argsort(scores)[::-1]"
   ]
  },
  {
   "cell_type": "code",
   "execution_count": null,
   "id": "cf501f92-dfa2-44da-b00d-a1c3e4c551b2",
   "metadata": {},
   "outputs": [],
   "source": [
    "print(scores[index])\n",
    "embedding.iloc[index]"
   ]
  },
  {
   "cell_type": "code",
   "execution_count": null,
   "id": "824d0d3f-8e71-4155-849a-37e89a0dedaf",
   "metadata": {},
   "outputs": [],
   "source": [
    "from sklearn.manifold import TSNE\n",
    "from sklearn.decomposition import PCA\n",
    "import matplotlib.pyplot as plt\n",
    "import matplotlib as mpl\n",
    "mpl.rcParams['font.sans-serif'] = [u'SimHei']\n",
    "mpl.rcParams['axes.unicode_minus']=False"
   ]
  },
  {
   "cell_type": "code",
   "execution_count": null,
   "id": "c248db18-0f0a-4d82-a613-fa448106e995",
   "metadata": {},
   "outputs": [],
   "source": [
    "tsne_results = TSNE(n_components=2, learning_rate='auto', init='pca', random_state=10).fit_transform(embedding)\n",
    "pca_results = PCA(n_components=2).fit_transform(embedding)"
   ]
  },
  {
   "cell_type": "code",
   "execution_count": null,
   "id": "68c7e54d-6f6a-4665-bd6e-d1a4cbbbb06b",
   "metadata": {},
   "outputs": [],
   "source": [
    "colors = embedding.index.map(lambda x: town2idx[dicts[x]])"
   ]
  },
  {
   "cell_type": "code",
   "execution_count": null,
   "id": "86c43e12-e804-4b19-8ea8-793636209740",
   "metadata": {},
   "outputs": [],
   "source": [
    "plt.style.use('ggplot')\n",
    "plt.figure(figsize=(10, 8))\n",
    "\n",
    "sc = plt.scatter(pca_results[:, 0], pca_results[:, 1], alpha=0.8, s=30, c=colors)#, cmap='rainbow')\n",
    "for index, pt in enumerate(pca_results):\n",
    "    plt.text(pt[0], pt[1], list(embedding.index)[index])\n",
    "    \n",
    "plt.legend(sc.legend_elements()[0], town2idx.keys(), title=\"DISTRICT\")\n",
    "plt.show()"
   ]
  },
  {
   "cell_type": "code",
   "execution_count": null,
   "id": "43afea04-58d8-4779-a71d-d408f00eecb7",
   "metadata": {},
   "outputs": [],
   "source": [
    "#"
   ]
  }
 ],
 "metadata": {
  "kernelspec": {
   "display_name": "Python 3 (ipykernel)",
   "language": "python",
   "name": "python3"
  },
  "language_info": {
   "codemirror_mode": {
    "name": "ipython",
    "version": 3
   },
   "file_extension": ".py",
   "mimetype": "text/x-python",
   "name": "python",
   "nbconvert_exporter": "python",
   "pygments_lexer": "ipython3",
   "version": "3.8.10"
  }
 },
 "nbformat": 4,
 "nbformat_minor": 5
}
