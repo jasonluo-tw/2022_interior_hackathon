{
 "cells": [
  {
   "cell_type": "code",
   "execution_count": 1,
   "id": "2f923e35",
   "metadata": {},
   "outputs": [],
   "source": [
    "import pandas as pd"
   ]
  },
  {
   "cell_type": "code",
   "execution_count": 15,
   "id": "a805a91a",
   "metadata": {},
   "outputs": [
    {
     "name": "stderr",
     "output_type": "stream",
     "text": [
      "/opt/homebrew/Caskroom/miniforge/base/lib/python3.8/site-packages/IPython/core/interactiveshell.py:3169: DtypeWarning: Columns (9) have mixed types.Specify dtype option on import or set low_memory=False.\n",
      "  has_raised = await self.run_ast_nodes(code_ast.body, cell_name,\n"
     ]
    }
   ],
   "source": [
    "data = pd.read_csv('../最小統計區/104年內政大數據資料應用組競賽用資料集_最小統計區/1.CSV/104年內政大數據資料應用組競賽用資料集_最小統計區.csv',\n",
    "                   skiprows=1,\n",
    "                   encoding='big5'\n",
    "                  )"
   ]
  },
  {
   "cell_type": "code",
   "execution_count": 19,
   "id": "105e1210",
   "metadata": {},
   "outputs": [
    {
     "data": {
      "text/html": [
       "<div>\n",
       "<style scoped>\n",
       "    .dataframe tbody tr th:only-of-type {\n",
       "        vertical-align: middle;\n",
       "    }\n",
       "\n",
       "    .dataframe tbody tr th {\n",
       "        vertical-align: top;\n",
       "    }\n",
       "\n",
       "    .dataframe thead th {\n",
       "        text-align: right;\n",
       "    }\n",
       "</style>\n",
       "<table border=\"1\" class=\"dataframe\">\n",
       "  <thead>\n",
       "    <tr style=\"text-align: right;\">\n",
       "      <th></th>\n",
       "      <th>二級發布區代碼</th>\n",
       "      <th>一級發布區代碼</th>\n",
       "      <th>最小統計區代碼</th>\n",
       "    </tr>\n",
       "  </thead>\n",
       "  <tbody>\n",
       "    <tr>\n",
       "      <th>0</th>\n",
       "      <td>A6301-05</td>\n",
       "      <td>A6301-05-001</td>\n",
       "      <td>A6301-0001-00</td>\n",
       "    </tr>\n",
       "    <tr>\n",
       "      <th>1</th>\n",
       "      <td>A6301-05</td>\n",
       "      <td>A6301-05-001</td>\n",
       "      <td>A6301-0002-00</td>\n",
       "    </tr>\n",
       "    <tr>\n",
       "      <th>2</th>\n",
       "      <td>A6301-01</td>\n",
       "      <td>A6301-01-001</td>\n",
       "      <td>A6301-0003-00</td>\n",
       "    </tr>\n",
       "    <tr>\n",
       "      <th>3</th>\n",
       "      <td>A6301-01</td>\n",
       "      <td>A6301-01-001</td>\n",
       "      <td>A6301-0004-00</td>\n",
       "    </tr>\n",
       "    <tr>\n",
       "      <th>4</th>\n",
       "      <td>A6301-01</td>\n",
       "      <td>A6301-01-001</td>\n",
       "      <td>A6301-0005-00</td>\n",
       "    </tr>\n",
       "    <tr>\n",
       "      <th>...</th>\n",
       "      <td>...</td>\n",
       "      <td>...</td>\n",
       "      <td>...</td>\n",
       "    </tr>\n",
       "    <tr>\n",
       "      <th>157928</th>\n",
       "      <td>A9704-19</td>\n",
       "      <td>A9704-19-001</td>\n",
       "      <td>A9704-0037-00</td>\n",
       "    </tr>\n",
       "    <tr>\n",
       "      <th>157929</th>\n",
       "      <td>A9704-20</td>\n",
       "      <td>A9704-20-001</td>\n",
       "      <td>A9704-0038-00</td>\n",
       "    </tr>\n",
       "    <tr>\n",
       "      <th>157930</th>\n",
       "      <td>A9704-21</td>\n",
       "      <td>A9704-21-001</td>\n",
       "      <td>A9704-0039-00</td>\n",
       "    </tr>\n",
       "    <tr>\n",
       "      <th>157931</th>\n",
       "      <td>A9704-22</td>\n",
       "      <td>A9704-22-001</td>\n",
       "      <td>A9704-0040-00</td>\n",
       "    </tr>\n",
       "    <tr>\n",
       "      <th>157932</th>\n",
       "      <td>A9704-23</td>\n",
       "      <td>A9704-23-001</td>\n",
       "      <td>A9704-0041-00</td>\n",
       "    </tr>\n",
       "  </tbody>\n",
       "</table>\n",
       "<p>157933 rows × 3 columns</p>\n",
       "</div>"
      ],
      "text/plain": [
       "         二級發布區代碼       一級發布區代碼        最小統計區代碼\n",
       "0       A6301-05  A6301-05-001  A6301-0001-00\n",
       "1       A6301-05  A6301-05-001  A6301-0002-00\n",
       "2       A6301-01  A6301-01-001  A6301-0003-00\n",
       "3       A6301-01  A6301-01-001  A6301-0004-00\n",
       "4       A6301-01  A6301-01-001  A6301-0005-00\n",
       "...          ...           ...            ...\n",
       "157928  A9704-19  A9704-19-001  A9704-0037-00\n",
       "157929  A9704-20  A9704-20-001  A9704-0038-00\n",
       "157930  A9704-21  A9704-21-001  A9704-0039-00\n",
       "157931  A9704-22  A9704-22-001  A9704-0040-00\n",
       "157932  A9704-23  A9704-23-001  A9704-0041-00\n",
       "\n",
       "[157933 rows x 3 columns]"
      ]
     },
     "execution_count": 19,
     "metadata": {},
     "output_type": "execute_result"
    }
   ],
   "source": [
    "data[['二級發布區代碼', '一級發布區代碼', '最小統計區代碼']]"
   ]
  },
  {
   "cell_type": "code",
   "execution_count": null,
   "id": "d8810f4b",
   "metadata": {},
   "outputs": [],
   "source": []
  }
 ],
 "metadata": {
  "kernelspec": {
   "display_name": "Python 3 (ipykernel)",
   "language": "python",
   "name": "python3"
  },
  "language_info": {
   "codemirror_mode": {
    "name": "ipython",
    "version": 3
   },
   "file_extension": ".py",
   "mimetype": "text/x-python",
   "name": "python",
   "nbconvert_exporter": "python",
   "pygments_lexer": "ipython3",
   "version": "3.8.6"
  }
 },
 "nbformat": 4,
 "nbformat_minor": 5
}
