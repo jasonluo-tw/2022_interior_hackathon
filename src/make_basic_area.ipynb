{
 "cells": [
  {
   "cell_type": "code",
   "execution_count": 2,
   "id": "2f923e35",
   "metadata": {},
   "outputs": [],
   "source": [
    "import pandas as pd"
   ]
  },
  {
   "cell_type": "code",
   "execution_count": 4,
   "id": "0f13eea1-82e6-497b-956b-447bc1e3c0c2",
   "metadata": {},
   "outputs": [],
   "source": [
    "table = pd.read_csv(\"../tbl/Taipei_mapping.csv\")"
   ]
  },
  {
   "cell_type": "code",
   "execution_count": 8,
   "id": "c9bda48f-c1b9-4bb8-89ee-3296450e811c",
   "metadata": {},
   "outputs": [],
   "source": [
    "CODEBASE = table.CODEBASE.tolist()"
   ]
  },
  {
   "cell_type": "code",
   "execution_count": 12,
   "id": "60fbe533-6c88-4e3e-bc2d-ee5feefc1d65",
   "metadata": {},
   "outputs": [
    {
     "data": {
      "text/plain": [
       "['A6310-0024-00',\n",
       " 'A6311-0791-00',\n",
       " 'A6311-0787-00',\n",
       " 'A6311-0793-00',\n",
       " 'A6311-0807-00']"
      ]
     },
     "execution_count": 12,
     "metadata": {},
     "output_type": "execute_result"
    }
   ],
   "source": [
    "CODEBASE[:5]"
   ]
  },
  {
   "cell_type": "code",
   "execution_count": 19,
   "id": "240e1abc-b2da-4bb0-84ce-6b37e6f8d64f",
   "metadata": {},
   "outputs": [],
   "source": []
  },
  {
   "cell_type": "code",
   "execution_count": 26,
   "id": "a805a91a",
   "metadata": {},
   "outputs": [
    {
     "name": "stdout",
     "output_type": "stream",
     "text": [
      "104\n",
      "105\n",
      "106\n",
      "107\n",
      "108\n",
      "109\n"
     ]
    }
   ],
   "source": [
    "for i in range(104, 110):\n",
    "    year = str(i)\n",
    "    print(year)\n",
    "    filename = '../最小統計區/%s年內政大數據資料應用組競賽用資料集_最小統計區/1.CSV/%s年內政大數據資料應用組競賽用資料集_最小統計區.csv'%(year, year)\n",
    "    data = pd.read_csv(filename,\n",
    "                       skiprows=1,\n",
    "                       encoding='big5',\n",
    "                       low_memory=False\n",
    "                      )\n",
    "\n",
    "    data[data['最小統計區代碼'].isin(CODEBASE)].to_csv(f'../data/{year}_Taipei_basic_area.csv', index=None)"
   ]
  },
  {
   "cell_type": "code",
   "execution_count": 21,
   "id": "105e1210",
   "metadata": {},
   "outputs": [],
   "source": []
  },
  {
   "cell_type": "code",
   "execution_count": null,
   "id": "920ab752",
   "metadata": {},
   "outputs": [],
   "source": []
  }
 ],
 "metadata": {
  "kernelspec": {
   "display_name": "Python 3 (ipykernel)",
   "language": "python",
   "name": "python3"
  },
  "language_info": {
   "codemirror_mode": {
    "name": "ipython",
    "version": 3
   },
   "file_extension": ".py",
   "mimetype": "text/x-python",
   "name": "python",
   "nbconvert_exporter": "python",
   "pygments_lexer": "ipython3",
   "version": "3.8.10"
  }
 },
 "nbformat": 4,
 "nbformat_minor": 5
}
