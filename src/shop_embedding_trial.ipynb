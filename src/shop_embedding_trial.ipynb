{
 "cells": [
  {
   "cell_type": "code",
   "execution_count": 1,
   "id": "3a8a54c4-e10c-4b7b-9473-61c3c82009e9",
   "metadata": {},
   "outputs": [],
   "source": [
    "import pandas as pd\n",
    "from itertools import chain\n",
    "from collections import Counter\n",
    "import matplotlib as mpl\n",
    "import matplotlib.pyplot as plt\n",
    "import numpy as np\n",
    "\n",
    "mpl.rcParams['font.sans-serif'] = [u'SimHei']\n",
    "mpl.rcParams['axes.unicode_minus']=False"
   ]
  },
  {
   "cell_type": "code",
   "execution_count": 2,
   "id": "7b4722d2-4322-458d-91b5-bfcc2e443d17",
   "metadata": {},
   "outputs": [],
   "source": [
    "def check_(x):\n",
    "    try:\n",
    "        y = float(x.replace(',', ''))\n",
    "    except:\n",
    "        y = x\n",
    "        \n",
    "    return y"
   ]
  },
  {
   "cell_type": "code",
   "execution_count": 3,
   "id": "3d844958-a583-40e4-b5cb-eedde5004e77",
   "metadata": {},
   "outputs": [],
   "source": [
    "#data = pd.read_csv('../data/591_shop_features.tsv', sep='\\t')\n",
    "#data.columns"
   ]
  },
  {
   "cell_type": "code",
   "execution_count": 4,
   "id": "388e99a1",
   "metadata": {},
   "outputs": [
    {
     "data": {
      "text/plain": [
       "Index(['house_index', 'user_index', '二級', 'town', 'name', 'rental_price',\n",
       "       'size', 'floor', 'floor_b', 'address', '小巷0/大路1', 'longitude',\n",
       "       'latitude', 'type', 'house_age', 'feature', 'MRT_within_1km',\n",
       "       'Bus_within_1km', 'MRT_name', 'MRT_distance', 'feature2', '押金', '管理費',\n",
       "       '車位', '租約', '裝潢', '裝潢_尚未裝潢', '裝潢_簡易裝潢', '裝潢_中檔裝潢', '裝潢_高檔裝潢', 'img_url',\n",
       "       'url', 'shop_within_1km', '餐廳餐館', '其他綜合零售', '便利商店', '美容美髮服務', '日常用品零售',\n",
       "       '飲料店業', '其他餐飲業'],\n",
       "      dtype='object')"
      ]
     },
     "execution_count": 4,
     "metadata": {},
     "output_type": "execute_result"
    }
   ],
   "source": [
    "data = pd.read_csv('../data/shops/591-datadb.tsv', sep='\\t')\n",
    "data.columns"
   ]
  },
  {
   "cell_type": "code",
   "execution_count": 5,
   "id": "30abf5ca-1076-4ce8-8ce6-2e76b8040f28",
   "metadata": {},
   "outputs": [],
   "source": [
    "## area feature\n",
    "area_data = pd.read_csv('../data/final_output/district_features.csv')\n",
    "## second \n",
    "second_data = pd.read_csv('../data/final_output/second_district_features.csv')\n",
    "## change columns\n",
    "change_cols = ['0-14歲人口數', '15-24歲人口數', '25-39歲人口數', '40-64歲人口數', '65歲以上人口數']\n",
    "\n",
    "area_data[change_cols] = second_data[change_cols]"
   ]
  },
  {
   "cell_type": "markdown",
   "id": "58a07870-e766-488b-b6d3-e1d0babb0650",
   "metadata": {},
   "source": [
    "# Feature processing"
   ]
  },
  {
   "cell_type": "code",
   "execution_count": 6,
   "id": "02d2daaf-4bb7-4606-8b61-a3fee1e17956",
   "metadata": {},
   "outputs": [],
   "source": [
    "all_features = []\n",
    "for fea in data['feature']:\n",
    "    features = []\n",
    "    [features.extend(i.split('：')) for i in fea.split('；')]\n",
    "    all_features.extend(features)\n",
    "\n",
    "cnt = Counter(all_features)"
   ]
  },
  {
   "cell_type": "code",
   "execution_count": 7,
   "id": "0a0e3ec2-a390-44ff-a3af-e7a43152579d",
   "metadata": {},
   "outputs": [
    {
     "data": {
      "text/plain": [
       "[('生活機能', 461),\n",
       " ('近便利商店', 433),\n",
       " ('公園綠地', 345),\n",
       " ('傳統市場', 314),\n",
       " ('學校', 306),\n",
       " ('百貨公司', 217),\n",
       " ('醫療機構', 200),\n",
       " ('夜市附近交通', 194),\n",
       " ('附近交通', 65),\n",
       " ('醫療機構附近交通', 59),\n",
       " ('夜市', 54),\n",
       " ('學校附近交通', 54),\n",
       " ('NAN', 51),\n",
       " (' 台北火車站', 25),\n",
       " (' 松山火車站', 16)]"
      ]
     },
     "execution_count": 7,
     "metadata": {},
     "output_type": "execute_result"
    }
   ],
   "source": [
    "cnt.most_common(15)"
   ]
  },
  {
   "cell_type": "markdown",
   "id": "dcf0c43b",
   "metadata": {},
   "source": [
    "# preprocessing"
   ]
  },
  {
   "cell_type": "code",
   "execution_count": 8,
   "id": "2cd2ad06",
   "metadata": {},
   "outputs": [],
   "source": [
    "def get_min_MRT(x):\n",
    "    if pd.isnull(x):\n",
    "        y = 0\n",
    "    else:\n",
    "        y = np.min([int(i) for i in str(x).split(',')])\n",
    "        \n",
    "    return y\n",
    "\n",
    "data['MRT_distance'] = data['MRT_distance'].map(get_min_MRT)"
   ]
  },
  {
   "cell_type": "code",
   "execution_count": 9,
   "id": "b6c35354-77c1-4010-a3dc-a933c6613b05",
   "metadata": {},
   "outputs": [],
   "source": [
    "## Type\n",
    "#shop_features = data\n",
    "shop_features = data[['town', 'rental_price', 'size', 'floor', '小巷0/大路1', 'longitude', 'latitude', 'house_age', 'MRT_distance',  'type', '裝潢', '車位',\n",
    "                        '餐廳餐館', '其他綜合零售', '便利商店', '美容美髮服務', '日常用品零售', '飲料店業']]"
   ]
  },
  {
   "cell_type": "code",
   "execution_count": 10,
   "id": "0fd66a8d-97c6-41e5-a6b0-d63a7bd5e018",
   "metadata": {},
   "outputs": [],
   "source": [
    "one_hot_type = pd.get_dummies(shop_features['type'])\n",
    "shop_features = shop_features.join(one_hot_type)\n",
    "shop_features = shop_features.drop('type', axis=1)\n",
    "shop_features = shop_features.rename(columns={'公寓': 'apartment', '別墅': 'villa', \n",
    "                                              '電梯大樓': 'mansion', '店面（店鋪）': 'store',\n",
    "                                              '小巷0/大路1': 'road/alley'})"
   ]
  },
  {
   "cell_type": "code",
   "execution_count": 11,
   "id": "a07d4c45-de04-4548-9c50-a68368fd68a3",
   "metadata": {},
   "outputs": [],
   "source": [
    "ss = {'尚未裝潢': 0, '簡易裝潢': 1, '中檔裝潢': 2, '高檔裝潢': 3}\n",
    "shop_features['裝潢'] = shop_features['裝潢'].map(lambda x: ss[x])"
   ]
  },
  {
   "cell_type": "code",
   "execution_count": 12,
   "id": "7c4861ad-65a5-45a9-b184-49beff2dd443",
   "metadata": {},
   "outputs": [],
   "source": [
    "one_hot_type = pd.get_dummies(shop_features['車位'].map(lambda x: x.split('，')[0]))\n",
    "shop_features = shop_features.join(one_hot_type)\n",
    "shop_features = shop_features.drop('車位', axis=1)\n",
    "shop_features = shop_features.rename(columns={'無': '無車位'})\n",
    "shop_features = shop_features.drop(columns=['平面式停車位', '機械式停車位'])"
   ]
  },
  {
   "cell_type": "code",
   "execution_count": 13,
   "id": "b6580fab-6c61-41ae-ac67-e27b0a7785f7",
   "metadata": {},
   "outputs": [],
   "source": [
    "shop_features['rental_price'] = shop_features['rental_price'].map(check_)"
   ]
  },
  {
   "cell_type": "code",
   "execution_count": 14,
   "id": "07ca26fa-5996-40cc-9335-e3fdfbe440b7",
   "metadata": {},
   "outputs": [
    {
     "data": {
      "text/plain": [
       "Index(['town', 'rental_price', 'size', 'floor', 'road/alley', 'longitude',\n",
       "       'latitude', 'house_age', 'MRT_distance', '裝潢', '餐廳餐館', '其他綜合零售', '便利商店',\n",
       "       '美容美髮服務', '日常用品零售', '飲料店業', 'apartment', 'villa', 'store', '透天厝',\n",
       "       'mansion', '無車位'],\n",
       "      dtype='object')"
      ]
     },
     "execution_count": 14,
     "metadata": {},
     "output_type": "execute_result"
    }
   ],
   "source": [
    "shop_features.columns"
   ]
  },
  {
   "cell_type": "code",
   "execution_count": 15,
   "id": "18f6f39d-ce66-4983-8747-ecf1bb066c4b",
   "metadata": {},
   "outputs": [],
   "source": [
    "area_features = area_data[['TOWN', '0-14歲人口數', '15-24歲人口數',  '25-39歲人口數', '40-64歲人口數', '65歲以上人口數', \n",
    "              'DAY_WORK(7:00~13:00)', 'DAY_WORK(13:00~19:00)', 'NIGHT_WORK', \n",
    "              'DAY_WEEKEND(7:00~13:00)', 'DAY_WEEKEND(13:00~19:00)', 'NIGHT_WEEKEND']]\n",
    "area_features = area_features.set_index('TOWN')"
   ]
  },
  {
   "cell_type": "code",
   "execution_count": 16,
   "id": "3a676624-cd3b-48ae-8787-d840a1b50454",
   "metadata": {},
   "outputs": [
    {
     "data": {
      "text/plain": [
       "Index(['0-14歲人口數', '15-24歲人口數', '25-39歲人口數', '40-64歲人口數', '65歲以上人口數',\n",
       "       'DAY_WORK(7:00~13:00)', 'DAY_WORK(13:00~19:00)', 'NIGHT_WORK',\n",
       "       'DAY_WEEKEND(7:00~13:00)', 'DAY_WEEKEND(13:00~19:00)', 'NIGHT_WEEKEND'],\n",
       "      dtype='object')"
      ]
     },
     "execution_count": 16,
     "metadata": {},
     "output_type": "execute_result"
    }
   ],
   "source": [
    "area_features.columns"
   ]
  },
  {
   "cell_type": "code",
   "execution_count": 17,
   "id": "381c6301-06b1-4739-9b5c-e13a50861e44",
   "metadata": {},
   "outputs": [],
   "source": [
    "new_features = []\n",
    "for index, item in shop_features.iterrows():\n",
    "    tmp = area_features.loc[item['town']]\n",
    "    \n",
    "    new_features.append(pd.concat((item, tmp)))\n",
    "    #new_features.append(item)\n",
    "    \n",
    "new_features = pd.DataFrame(new_features)\n",
    "new_features = new_features.drop(columns=['town', 'floor'])"
   ]
  },
  {
   "cell_type": "code",
   "execution_count": 18,
   "id": "edc33035-d5c7-4103-9ef5-696f206a695f",
   "metadata": {},
   "outputs": [],
   "source": [
    "new_features = new_features.applymap(check_)"
   ]
  },
  {
   "cell_type": "code",
   "execution_count": 19,
   "id": "9ea873d7-4c76-4ca4-87ac-baa9de9df81f",
   "metadata": {},
   "outputs": [
    {
     "data": {
      "text/plain": [
       "Index(['rental_price', 'size', 'road/alley', 'longitude', 'latitude',\n",
       "       'house_age', 'MRT_distance', '裝潢', '餐廳餐館', '其他綜合零售', '便利商店', '美容美髮服務',\n",
       "       '日常用品零售', '飲料店業', 'apartment', 'villa', 'store', '透天厝', 'mansion',\n",
       "       '無車位', '0-14歲人口數', '15-24歲人口數', '25-39歲人口數', '40-64歲人口數', '65歲以上人口數',\n",
       "       'DAY_WORK(7:00~13:00)', 'DAY_WORK(13:00~19:00)', 'NIGHT_WORK',\n",
       "       'DAY_WEEKEND(7:00~13:00)', 'DAY_WEEKEND(13:00~19:00)', 'NIGHT_WEEKEND'],\n",
       "      dtype='object')"
      ]
     },
     "execution_count": 19,
     "metadata": {},
     "output_type": "execute_result"
    }
   ],
   "source": [
    "new_features.columns"
   ]
  },
  {
   "cell_type": "code",
   "execution_count": 20,
   "id": "afdb19fe-b307-4a8a-a96a-326db7f7010d",
   "metadata": {},
   "outputs": [],
   "source": [
    "#new_features.to_csv(\"591shop_area.tsv\", sep=\"\\t\", index=None)"
   ]
  },
  {
   "cell_type": "code",
   "execution_count": 21,
   "id": "bde1f840-1b34-4cb3-8914-d6e6a46d3194",
   "metadata": {},
   "outputs": [],
   "source": [
    "new_features['rental_price'] = np.log(new_features['rental_price'])\n",
    "new_features['size'] = np.log(new_features['size'])"
   ]
  },
  {
   "cell_type": "code",
   "execution_count": 22,
   "id": "729f9e34-973f-4027-bfaa-0e6040b07c8d",
   "metadata": {},
   "outputs": [],
   "source": [
    "## categorical & numerical\n",
    "categorical_columns = ['road/alley', 'apartment', 'villa', 'store', '透天厝', 'mansion', '無車位']\n",
    "cate_embedding = new_features[categorical_columns]"
   ]
  },
  {
   "cell_type": "code",
   "execution_count": 23,
   "id": "fb5f36c4-ee74-4df5-bf9a-cf39d122cf1c",
   "metadata": {},
   "outputs": [],
   "source": [
    "## min/max normalization\n",
    "embedding = (new_features - new_features.min()) / (new_features.max() - new_features.min())\n",
    "embedding = embedding.drop(columns=categorical_columns)\n",
    "embedding = pd.concat((embedding, cate_embedding), axis=1)"
   ]
  },
  {
   "cell_type": "code",
   "execution_count": 24,
   "id": "b8e06f5f-08cf-4530-8664-623b3b57db01",
   "metadata": {},
   "outputs": [],
   "source": [
    "## Get mean and std\n",
    "feature_mean = new_features.mean().drop(columns=categorical_columns)\n",
    "feature_std = new_features.std().drop(columns=categorical_columns)\n",
    "feature_min = new_features.min().drop(columns=categorical_columns)\n",
    "feature_max = new_features.max().drop(columns=categorical_columns)"
   ]
  },
  {
   "cell_type": "code",
   "execution_count": 25,
   "id": "a5d34149-9db6-4bf3-a57a-5c71534c0125",
   "metadata": {},
   "outputs": [],
   "source": [
    "statics_info = pd.concat((feature_mean, feature_std, feature_min, feature_max),axis=1).rename(columns={0: 'mean', 1: 'std', 2: 'min', 3: 'max'}).drop(index=categorical_columns)\n",
    "statics_info.index.name = 'feature_name'\n",
    "statics_info.to_csv('../data/shops/embedding_statics.csv')"
   ]
  },
  {
   "cell_type": "code",
   "execution_count": 26,
   "id": "28e3f516-1f8a-414d-a3df-9cbb3d4f1e01",
   "metadata": {},
   "outputs": [],
   "source": [
    "embedding = pd.concat((data[['house_index']], embedding), axis=1)\n",
    "embedding.to_csv('../data/shops/shop_embedding.csv', index=None)"
   ]
  },
  {
   "cell_type": "code",
   "execution_count": 25,
   "id": "c60982b7-70fe-441d-8da0-a187b44e2779",
   "metadata": {},
   "outputs": [
    {
     "data": {
      "text/plain": [
       "Index(['rental_price', 'size', 'longitude', 'latitude', 'house_age',\n",
       "       'MRT_distance', '裝潢', '餐廳餐館', '其他綜合零售', '便利商店', '美容美髮服務', '日常用品零售',\n",
       "       '飲料店業', '0-14歲人口數', '15-24歲人口數', '25-39歲人口數', '40-64歲人口數', '65歲以上人口數',\n",
       "       'DAY_WORK(7:00~13:00)', 'DAY_WORK(13:00~19:00)', 'NIGHT_WORK',\n",
       "       'DAY_WEEKEND(7:00~13:00)', 'DAY_WEEKEND(13:00~19:00)', 'NIGHT_WEEKEND',\n",
       "       'road/alley', 'apartment', 'villa', 'store', '透天厝', 'mansion', '無車位'],\n",
       "      dtype='object')"
      ]
     },
     "execution_count": 25,
     "metadata": {},
     "output_type": "execute_result"
    }
   ],
   "source": [
    "embedding.columns"
   ]
  },
  {
   "cell_type": "code",
   "execution_count": 27,
   "id": "51edc75b-b0e3-43bf-91f2-fc519db7cf0c",
   "metadata": {},
   "outputs": [
    {
     "data": {
      "image/png": "[encoded data removed]",
      "text/plain": [
       "<Figure size 1080x864 with 36 Axes>"
      ]
     },
     "metadata": {
      "needs_background": "light"
     },
     "output_type": "display_data"
    }
   ],
   "source": [
    "#embedding = embedding.drop(columns=['house_index'])\n",
    "embedding.hist(figsize=(15, 12))\n",
    "plt.tight_layout()\n",
    "plt.show()"
   ]
  },
  {
   "cell_type": "markdown",
   "id": "994027ef-15c7-48e5-88a1-c50544ab823c",
   "metadata": {},
   "source": [
    "# Testing"
   ]
  },
  {
   "cell_type": "code",
   "execution_count": 28,
   "id": "fc9dc576-c32a-413d-acca-98781d9714c3",
   "metadata": {},
   "outputs": [],
   "source": [
    "from sklearn.metrics.pairwise import cosine_similarity"
   ]
  },
  {
   "cell_type": "code",
   "execution_count": 29,
   "id": "6de6d19c-06c8-45a9-85c1-fb855d56f9ca",
   "metadata": {},
   "outputs": [
    {
     "data": {
      "text/html": [
       "<div>\n",
       "<style scoped>\n",
       "    .dataframe tbody tr th:only-of-type {\n",
       "        vertical-align: middle;\n",
       "    }\n",
       "\n",
       "    .dataframe tbody tr th {\n",
       "        vertical-align: top;\n",
       "    }\n",
       "\n",
       "    .dataframe thead th {\n",
       "        text-align: right;\n",
       "    }\n",
       "</style>\n",
       "<table border=\"1\" class=\"dataframe\">\n",
       "  <thead>\n",
       "    <tr style=\"text-align: right;\">\n",
       "      <th></th>\n",
       "      <th>rental_price</th>\n",
       "      <th>size</th>\n",
       "      <th>longitude</th>\n",
       "      <th>latitude</th>\n",
       "      <th>house_age</th>\n",
       "      <th>MRT_distance</th>\n",
       "      <th>裝潢</th>\n",
       "      <th>餐廳餐館</th>\n",
       "      <th>其他綜合零售</th>\n",
       "      <th>便利商店</th>\n",
       "      <th>...</th>\n",
       "      <th>DAY_WEEKEND(7:00~13:00)</th>\n",
       "      <th>DAY_WEEKEND(13:00~19:00)</th>\n",
       "      <th>NIGHT_WEEKEND</th>\n",
       "      <th>road/alley</th>\n",
       "      <th>apartment</th>\n",
       "      <th>villa</th>\n",
       "      <th>store</th>\n",
       "      <th>透天厝</th>\n",
       "      <th>mansion</th>\n",
       "      <th>無車位</th>\n",
       "    </tr>\n",
       "  </thead>\n",
       "  <tbody>\n",
       "    <tr>\n",
       "      <th>0</th>\n",
       "      <td>0.417871</td>\n",
       "      <td>0.334358</td>\n",
       "      <td>0.561168</td>\n",
       "      <td>0.380471</td>\n",
       "      <td>0.84375</td>\n",
       "      <td>0.263959</td>\n",
       "      <td>0.333333</td>\n",
       "      <td>0.591281</td>\n",
       "      <td>0.725806</td>\n",
       "      <td>0.307692</td>\n",
       "      <td>...</td>\n",
       "      <td>1.000000</td>\n",
       "      <td>1.000000</td>\n",
       "      <td>1.00000</td>\n",
       "      <td>1</td>\n",
       "      <td>0</td>\n",
       "      <td>0</td>\n",
       "      <td>0</td>\n",
       "      <td>0</td>\n",
       "      <td>1</td>\n",
       "      <td>1</td>\n",
       "    </tr>\n",
       "    <tr>\n",
       "      <th>471</th>\n",
       "      <td>0.439953</td>\n",
       "      <td>0.369878</td>\n",
       "      <td>0.561168</td>\n",
       "      <td>0.380471</td>\n",
       "      <td>0.68750</td>\n",
       "      <td>0.263959</td>\n",
       "      <td>0.333333</td>\n",
       "      <td>0.591281</td>\n",
       "      <td>0.725806</td>\n",
       "      <td>0.307692</td>\n",
       "      <td>...</td>\n",
       "      <td>1.000000</td>\n",
       "      <td>1.000000</td>\n",
       "      <td>1.00000</td>\n",
       "      <td>1</td>\n",
       "      <td>0</td>\n",
       "      <td>0</td>\n",
       "      <td>0</td>\n",
       "      <td>0</td>\n",
       "      <td>1</td>\n",
       "      <td>1</td>\n",
       "    </tr>\n",
       "    <tr>\n",
       "      <th>52</th>\n",
       "      <td>0.665325</td>\n",
       "      <td>0.406931</td>\n",
       "      <td>0.561168</td>\n",
       "      <td>0.380471</td>\n",
       "      <td>0.81250</td>\n",
       "      <td>0.263959</td>\n",
       "      <td>0.333333</td>\n",
       "      <td>0.591281</td>\n",
       "      <td>0.725806</td>\n",
       "      <td>0.307692</td>\n",
       "      <td>...</td>\n",
       "      <td>1.000000</td>\n",
       "      <td>1.000000</td>\n",
       "      <td>1.00000</td>\n",
       "      <td>1</td>\n",
       "      <td>0</td>\n",
       "      <td>0</td>\n",
       "      <td>0</td>\n",
       "      <td>0</td>\n",
       "      <td>1</td>\n",
       "      <td>1</td>\n",
       "    </tr>\n",
       "    <tr>\n",
       "      <th>509</th>\n",
       "      <td>0.371607</td>\n",
       "      <td>0.306807</td>\n",
       "      <td>0.561168</td>\n",
       "      <td>0.380471</td>\n",
       "      <td>0.71875</td>\n",
       "      <td>0.263959</td>\n",
       "      <td>0.666667</td>\n",
       "      <td>0.591281</td>\n",
       "      <td>0.725806</td>\n",
       "      <td>0.307692</td>\n",
       "      <td>...</td>\n",
       "      <td>1.000000</td>\n",
       "      <td>1.000000</td>\n",
       "      <td>1.00000</td>\n",
       "      <td>1</td>\n",
       "      <td>0</td>\n",
       "      <td>0</td>\n",
       "      <td>0</td>\n",
       "      <td>0</td>\n",
       "      <td>1</td>\n",
       "      <td>1</td>\n",
       "    </tr>\n",
       "    <tr>\n",
       "      <th>163</th>\n",
       "      <td>0.693246</td>\n",
       "      <td>0.485455</td>\n",
       "      <td>0.527429</td>\n",
       "      <td>0.366517</td>\n",
       "      <td>0.81250</td>\n",
       "      <td>0.400000</td>\n",
       "      <td>0.333333</td>\n",
       "      <td>0.634877</td>\n",
       "      <td>0.709677</td>\n",
       "      <td>0.179487</td>\n",
       "      <td>...</td>\n",
       "      <td>1.000000</td>\n",
       "      <td>1.000000</td>\n",
       "      <td>1.00000</td>\n",
       "      <td>1</td>\n",
       "      <td>0</td>\n",
       "      <td>0</td>\n",
       "      <td>0</td>\n",
       "      <td>0</td>\n",
       "      <td>1</td>\n",
       "      <td>1</td>\n",
       "    </tr>\n",
       "    <tr>\n",
       "      <th>...</th>\n",
       "      <td>...</td>\n",
       "      <td>...</td>\n",
       "      <td>...</td>\n",
       "      <td>...</td>\n",
       "      <td>...</td>\n",
       "      <td>...</td>\n",
       "      <td>...</td>\n",
       "      <td>...</td>\n",
       "      <td>...</td>\n",
       "      <td>...</td>\n",
       "      <td>...</td>\n",
       "      <td>...</td>\n",
       "      <td>...</td>\n",
       "      <td>...</td>\n",
       "      <td>...</td>\n",
       "      <td>...</td>\n",
       "      <td>...</td>\n",
       "      <td>...</td>\n",
       "      <td>...</td>\n",
       "      <td>...</td>\n",
       "      <td>...</td>\n",
       "    </tr>\n",
       "    <tr>\n",
       "      <th>526</th>\n",
       "      <td>0.722252</td>\n",
       "      <td>0.676685</td>\n",
       "      <td>0.978996</td>\n",
       "      <td>0.446660</td>\n",
       "      <td>0.12500</td>\n",
       "      <td>0.436548</td>\n",
       "      <td>0.000000</td>\n",
       "      <td>0.114441</td>\n",
       "      <td>0.112903</td>\n",
       "      <td>0.051282</td>\n",
       "      <td>...</td>\n",
       "      <td>0.023735</td>\n",
       "      <td>0.024774</td>\n",
       "      <td>0.00000</td>\n",
       "      <td>1</td>\n",
       "      <td>0</td>\n",
       "      <td>0</td>\n",
       "      <td>1</td>\n",
       "      <td>0</td>\n",
       "      <td>0</td>\n",
       "      <td>0</td>\n",
       "    </tr>\n",
       "    <tr>\n",
       "      <th>554</th>\n",
       "      <td>0.399200</td>\n",
       "      <td>0.524554</td>\n",
       "      <td>0.135510</td>\n",
       "      <td>1.000000</td>\n",
       "      <td>0.50000</td>\n",
       "      <td>0.517766</td>\n",
       "      <td>0.000000</td>\n",
       "      <td>0.100817</td>\n",
       "      <td>0.064516</td>\n",
       "      <td>0.153846</td>\n",
       "      <td>...</td>\n",
       "      <td>0.501829</td>\n",
       "      <td>0.368256</td>\n",
       "      <td>0.56919</td>\n",
       "      <td>0</td>\n",
       "      <td>0</td>\n",
       "      <td>0</td>\n",
       "      <td>0</td>\n",
       "      <td>1</td>\n",
       "      <td>0</td>\n",
       "      <td>1</td>\n",
       "    </tr>\n",
       "    <tr>\n",
       "      <th>128</th>\n",
       "      <td>0.676869</td>\n",
       "      <td>0.555583</td>\n",
       "      <td>0.978996</td>\n",
       "      <td>0.446660</td>\n",
       "      <td>0.00000</td>\n",
       "      <td>0.436548</td>\n",
       "      <td>0.000000</td>\n",
       "      <td>0.114441</td>\n",
       "      <td>0.112903</td>\n",
       "      <td>0.051282</td>\n",
       "      <td>...</td>\n",
       "      <td>0.023735</td>\n",
       "      <td>0.024774</td>\n",
       "      <td>0.00000</td>\n",
       "      <td>1</td>\n",
       "      <td>0</td>\n",
       "      <td>0</td>\n",
       "      <td>1</td>\n",
       "      <td>0</td>\n",
       "      <td>0</td>\n",
       "      <td>0</td>\n",
       "    </tr>\n",
       "    <tr>\n",
       "      <th>139</th>\n",
       "      <td>0.472614</td>\n",
       "      <td>0.477970</td>\n",
       "      <td>0.019718</td>\n",
       "      <td>0.920059</td>\n",
       "      <td>0.25000</td>\n",
       "      <td>0.405076</td>\n",
       "      <td>0.333333</td>\n",
       "      <td>0.038147</td>\n",
       "      <td>0.000000</td>\n",
       "      <td>0.051282</td>\n",
       "      <td>...</td>\n",
       "      <td>0.501829</td>\n",
       "      <td>0.368256</td>\n",
       "      <td>0.56919</td>\n",
       "      <td>0</td>\n",
       "      <td>0</td>\n",
       "      <td>0</td>\n",
       "      <td>1</td>\n",
       "      <td>0</td>\n",
       "      <td>0</td>\n",
       "      <td>1</td>\n",
       "    </tr>\n",
       "    <tr>\n",
       "      <th>137</th>\n",
       "      <td>0.266137</td>\n",
       "      <td>0.369878</td>\n",
       "      <td>0.000000</td>\n",
       "      <td>0.952477</td>\n",
       "      <td>0.68750</td>\n",
       "      <td>0.712690</td>\n",
       "      <td>0.666667</td>\n",
       "      <td>0.032698</td>\n",
       "      <td>0.000000</td>\n",
       "      <td>0.025641</td>\n",
       "      <td>...</td>\n",
       "      <td>0.501829</td>\n",
       "      <td>0.368256</td>\n",
       "      <td>0.56919</td>\n",
       "      <td>0</td>\n",
       "      <td>0</td>\n",
       "      <td>0</td>\n",
       "      <td>1</td>\n",
       "      <td>0</td>\n",
       "      <td>0</td>\n",
       "      <td>1</td>\n",
       "    </tr>\n",
       "  </tbody>\n",
       "</table>\n",
       "<p>578 rows × 31 columns</p>\n",
       "</div>"
      ],
      "text/plain": [
       "     rental_price      size  longitude  latitude  house_age  MRT_distance  \\\n",
       "0        0.417871  0.334358   0.561168  0.380471    0.84375      0.263959   \n",
       "471      0.439953  0.369878   0.561168  0.380471    0.68750      0.263959   \n",
       "52       0.665325  0.406931   0.561168  0.380471    0.81250      0.263959   \n",
       "509      0.371607  0.306807   0.561168  0.380471    0.71875      0.263959   \n",
       "163      0.693246  0.485455   0.527429  0.366517    0.81250      0.400000   \n",
       "..            ...       ...        ...       ...        ...           ...   \n",
       "526      0.722252  0.676685   0.978996  0.446660    0.12500      0.436548   \n",
       "554      0.399200  0.524554   0.135510  1.000000    0.50000      0.517766   \n",
       "128      0.676869  0.555583   0.978996  0.446660    0.00000      0.436548   \n",
       "139      0.472614  0.477970   0.019718  0.920059    0.25000      0.405076   \n",
       "137      0.266137  0.369878   0.000000  0.952477    0.68750      0.712690   \n",
       "\n",
       "           裝潢      餐廳餐館    其他綜合零售      便利商店  ...  DAY_WEEKEND(7:00~13:00)  \\\n",
       "0    0.333333  0.591281  0.725806  0.307692  ...                 1.000000   \n",
       "471  0.333333  0.591281  0.725806  0.307692  ...                 1.000000   \n",
       "52   0.333333  0.591281  0.725806  0.307692  ...                 1.000000   \n",
       "509  0.666667  0.591281  0.725806  0.307692  ...                 1.000000   \n",
       "163  0.333333  0.634877  0.709677  0.179487  ...                 1.000000   \n",
       "..        ...       ...       ...       ...  ...                      ...   \n",
       "526  0.000000  0.114441  0.112903  0.051282  ...                 0.023735   \n",
       "554  0.000000  0.100817  0.064516  0.153846  ...                 0.501829   \n",
       "128  0.000000  0.114441  0.112903  0.051282  ...                 0.023735   \n",
       "139  0.333333  0.038147  0.000000  0.051282  ...                 0.501829   \n",
       "137  0.666667  0.032698  0.000000  0.025641  ...                 0.501829   \n",
       "\n",
       "     DAY_WEEKEND(13:00~19:00)  NIGHT_WEEKEND  road/alley  apartment  villa  \\\n",
       "0                    1.000000        1.00000           1          0      0   \n",
       "471                  1.000000        1.00000           1          0      0   \n",
       "52                   1.000000        1.00000           1          0      0   \n",
       "509                  1.000000        1.00000           1          0      0   \n",
       "163                  1.000000        1.00000           1          0      0   \n",
       "..                        ...            ...         ...        ...    ...   \n",
       "526                  0.024774        0.00000           1          0      0   \n",
       "554                  0.368256        0.56919           0          0      0   \n",
       "128                  0.024774        0.00000           1          0      0   \n",
       "139                  0.368256        0.56919           0          0      0   \n",
       "137                  0.368256        0.56919           0          0      0   \n",
       "\n",
       "     store  透天厝  mansion  無車位  \n",
       "0        0    0        1    1  \n",
       "471      0    0        1    1  \n",
       "52       0    0        1    1  \n",
       "509      0    0        1    1  \n",
       "163      0    0        1    1  \n",
       "..     ...  ...      ...  ...  \n",
       "526      1    0        0    0  \n",
       "554      0    1        0    1  \n",
       "128      1    0        0    0  \n",
       "139      1    0        0    1  \n",
       "137      1    0        0    1  \n",
       "\n",
       "[578 rows x 31 columns]"
      ]
     },
     "execution_count": 29,
     "metadata": {},
     "output_type": "execute_result"
    }
   ],
   "source": [
    "scores = np.squeeze(cosine_similarity(embedding, embedding.iloc[[0]]))\n",
    "scores = (scores + 1) * 50\n",
    "index = np.argsort(scores)[::-1]\n",
    "embedding.iloc[index]\n",
    "#print(scores[index])"
   ]
  },
  {
   "cell_type": "markdown",
   "id": "e073892e-e0ea-4909-bedf-94865a419a21",
   "metadata": {},
   "source": [
    "# Visualization"
   ]
  },
  {
   "cell_type": "code",
   "execution_count": 30,
   "id": "cfe9117b-f627-485f-a3ca-4a46c813c35e",
   "metadata": {},
   "outputs": [],
   "source": [
    "from sklearn.manifold import TSNE\n",
    "from sklearn.decomposition import PCA"
   ]
  },
  {
   "cell_type": "code",
   "execution_count": 31,
   "id": "c651c7df-1a41-4afe-bab1-76122b0eac61",
   "metadata": {},
   "outputs": [
    {
     "name": "stderr",
     "output_type": "stream",
     "text": [
      "/home/jasonluo/anaconda3/envs/py38/lib/python3.8/site-packages/sklearn/manifold/_t_sne.py:982: FutureWarning: The PCA initialization in TSNE will change to have the standard deviation of PC1 equal to 1e-4 in 1.2. This will ensure better convergence.\n",
      "  warnings.warn(\n"
     ]
    }
   ],
   "source": [
    "pca_results = PCA(n_components=2).fit_transform(embedding)\n",
    "tsne_results = TSNE(n_components=2, learning_rate='auto', init='pca', random_state=20).fit_transform(embedding)"
   ]
  },
  {
   "cell_type": "code",
   "execution_count": 32,
   "id": "21c45c18-04e1-49fa-9d7b-87d2bc809a8c",
   "metadata": {},
   "outputs": [
    {
     "data": {
      "image/png": "[encoded data removed]",
      "text/plain": [
       "<Figure size 1080x864 with 2 Axes>"
      ]
     },
     "metadata": {},
     "output_type": "display_data"
    }
   ],
   "source": [
    "plt.style.use('ggplot')\n",
    "plt.figure(figsize=(15, 12))\n",
    "\n",
    "plt.subplot(1, 2, 1)\n",
    "sc = plt.scatter(pca_results[:, 0], pca_results[:, 1], alpha=0.8, s=30)#, cmap='rainbow')\n",
    "\n",
    "sc = plt.scatter(pca_results[0, 0], pca_results[0, 1], alpha=0.8, s=30, color='blue')#, cmap='rainbow')\n",
    "sc = plt.scatter(pca_results[471, 0], pca_results[471, 1], alpha=0.8, s=30, color='blue')#, cmap='rainbow')\n",
    "\n",
    "plt.subplot(1, 2, 2)\n",
    "sc = plt.scatter(tsne_results[:, 0], tsne_results[:, 1], alpha=0.8, s=30)#, cmap='rainbow')\n",
    "\n",
    "sc = plt.scatter(tsne_results[0, 0], tsne_results[0, 1], alpha=0.8, s=30, color='blue')#, cmap='rainbow')\n",
    "sc = plt.scatter(tsne_results[471, 0], tsne_results[471, 1], alpha=0.8, s=30, color='blue')#, cmap='rainbow')\n",
    "\n",
    "\n",
    "plt.show()"
   ]
  },
  {
   "cell_type": "code",
   "execution_count": null,
   "id": "c6aa65e3-c7f0-4cd7-9f3c-45a370fa09b8",
   "metadata": {},
   "outputs": [],
   "source": [
    "import tensorflow as tf"
   ]
  },
  {
   "cell_type": "code",
   "execution_count": null,
   "id": "03eb4e09-40ac-4272-97c8-3e89b1f7f926",
   "metadata": {},
   "outputs": [],
   "source": []
  }
 ],
 "metadata": {
  "kernelspec": {
   "display_name": "Python 3 (ipykernel)",
   "language": "python",
   "name": "python3"
  },
  "language_info": {
   "codemirror_mode": {
    "name": "ipython",
    "version": 3
   },
   "file_extension": ".py",
   "mimetype": "text/x-python",
   "name": "python",
   "nbconvert_exporter": "python",
   "pygments_lexer": "ipython3",
   "version": "3.8.10"
  }
 },
 "nbformat": 4,
 "nbformat_minor": 5
}
