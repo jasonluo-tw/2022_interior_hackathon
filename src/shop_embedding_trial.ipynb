{
 "cells": [
  {
   "cell_type": "code",
   "execution_count": 1,
   "id": "3a8a54c4-e10c-4b7b-9473-61c3c82009e9",
   "metadata": {},
   "outputs": [],
   "source": [
    "import pandas as pd\n",
    "from itertools import chain\n",
    "from collections import Counter\n",
    "import matplotlib as mpl\n",
    "import matplotlib.pyplot as plt\n",
    "import numpy as np\n",
    "\n",
    "mpl.rcParams['font.sans-serif'] = [u'SimHei']\n",
    "mpl.rcParams['axes.unicode_minus']=False"
   ]
  },
  {
   "cell_type": "code",
   "execution_count": 2,
   "id": "7b4722d2-4322-458d-91b5-bfcc2e443d17",
   "metadata": {},
   "outputs": [],
   "source": [
    "def check_(x):\n",
    "    try:\n",
    "        y = float(x.replace(',', ''))\n",
    "    except:\n",
    "        y = x\n",
    "        \n",
    "    return y"
   ]
  },
  {
   "cell_type": "code",
   "execution_count": 3,
   "id": "45a0aebb-1d4b-4d97-b27d-4c3116def144",
   "metadata": {},
   "outputs": [],
   "source": [
    "data = pd.read_csv('../data/591_shop_features.tsv', sep='\\t')"
   ]
  },
  {
   "cell_type": "code",
   "execution_count": 4,
   "id": "3d844958-a583-40e4-b5cb-eedde5004e77",
   "metadata": {},
   "outputs": [
    {
     "data": {
      "text/plain": [
       "Index(['user_index', 'town', 'name', 'rental_price', 'size', 'floor',\n",
       "       'address', '小巷0/大路1', 'longitude', 'latitude', 'type', 'house_age',\n",
       "       'feature', 'MRT_within_lkm', 'Bus_within_lkm', 'MRT_name',\n",
       "       'MRT_distance', '管理費', '車位', '裝潢', 'shop_within_lkm', '餐廳餐館', '其他綜合零售',\n",
       "       '便利商店', '美容美髮服務', '日常用品零售', '飲料店業', '其他餐飲業'],\n",
       "      dtype='object')"
      ]
     },
     "execution_count": 4,
     "metadata": {},
     "output_type": "execute_result"
    }
   ],
   "source": [
    "data.columns"
   ]
  },
  {
   "cell_type": "code",
   "execution_count": 5,
   "id": "30abf5ca-1076-4ce8-8ce6-2e76b8040f28",
   "metadata": {},
   "outputs": [],
   "source": [
    "## area feature\n",
    "area_data = pd.read_csv('../data/final_output/district_features.csv')"
   ]
  },
  {
   "cell_type": "markdown",
   "id": "58a07870-e766-488b-b6d3-e1d0babb0650",
   "metadata": {},
   "source": [
    "# Feature processing"
   ]
  },
  {
   "cell_type": "code",
   "execution_count": 6,
   "id": "02d2daaf-4bb7-4606-8b61-a3fee1e17956",
   "metadata": {},
   "outputs": [],
   "source": [
    "all_features = []\n",
    "for fea in data['feature']:\n",
    "    features = []\n",
    "    [features.extend(i.split('：')) for i in fea.split('；')]\n",
    "    all_features.extend(features)\n",
    "\n",
    "cnt = Counter(all_features)"
   ]
  },
  {
   "cell_type": "code",
   "execution_count": 7,
   "id": "0a0e3ec2-a390-44ff-a3af-e7a43152579d",
   "metadata": {},
   "outputs": [
    {
     "data": {
      "text/plain": [
       "[('生活機能', 461),\n",
       " ('近便利商店', 433),\n",
       " ('公園綠地', 345),\n",
       " ('傳統市場', 314),\n",
       " ('學校', 306),\n",
       " ('百貨公司', 217),\n",
       " ('醫療機構', 200),\n",
       " ('夜市附近交通', 194),\n",
       " ('附近交通', 65),\n",
       " ('醫療機構附近交通', 59),\n",
       " ('夜市', 54),\n",
       " ('學校附近交通', 54),\n",
       " ('NAN', 51),\n",
       " (' 台北火車站', 25),\n",
       " (' 松山火車站', 16)]"
      ]
     },
     "execution_count": 7,
     "metadata": {},
     "output_type": "execute_result"
    }
   ],
   "source": [
    "cnt.most_common(15)"
   ]
  },
  {
   "cell_type": "code",
   "execution_count": 8,
   "id": "070f8ef7-7d56-4edc-8d11-14d2aff7173a",
   "metadata": {},
   "outputs": [
    {
     "data": {
      "text/plain": [
       "Index(['user_index', 'town', 'name', 'rental_price', 'size', 'floor',\n",
       "       'address', '小巷0/大路1', 'longitude', 'latitude', 'type', 'house_age',\n",
       "       'feature', 'MRT_within_lkm', 'Bus_within_lkm', 'MRT_name',\n",
       "       'MRT_distance', '管理費', '車位', '裝潢', 'shop_within_lkm', '餐廳餐館', '其他綜合零售',\n",
       "       '便利商店', '美容美髮服務', '日常用品零售', '飲料店業', '其他餐飲業'],\n",
       "      dtype='object')"
      ]
     },
     "execution_count": 8,
     "metadata": {},
     "output_type": "execute_result"
    }
   ],
   "source": [
    "data.columns"
   ]
  },
  {
   "cell_type": "code",
   "execution_count": 9,
   "id": "b6c35354-77c1-4010-a3dc-a933c6613b05",
   "metadata": {},
   "outputs": [],
   "source": [
    "## Type\n",
    "shop_features = data\n",
    "#shop_features = data[['town', 'rental_price', 'size', 'floor', '小巷0/大路1', 'longitude', 'latitude', 'house_age', 'MRT_within_lkm',  'type', '裝潢',\n",
    "#                        '餐廳餐館', '其他綜合零售', '便利商店', '美容美髮服務', '日常用品零售', '飲料店業']]"
   ]
  },
  {
   "cell_type": "code",
   "execution_count": 10,
   "id": "0fd66a8d-97c6-41e5-a6b0-d63a7bd5e018",
   "metadata": {},
   "outputs": [],
   "source": [
    "one_hot_type = pd.get_dummies(shop_features['type'])\n",
    "shop_features = shop_features.join(one_hot_type)\n",
    "shop_features = shop_features.drop('type', axis=1)"
   ]
  },
  {
   "cell_type": "code",
   "execution_count": 11,
   "id": "a07d4c45-de04-4548-9c50-a68368fd68a3",
   "metadata": {},
   "outputs": [],
   "source": [
    "ss = {'尚未裝潢': 0, '簡易裝潢': 1, '中檔裝潢': 2, '高檔裝潢': 3}\n",
    "shop_features['裝潢'] = shop_features['裝潢'].map(lambda x: ss[x])"
   ]
  },
  {
   "cell_type": "code",
   "execution_count": 12,
   "id": "7c4861ad-65a5-45a9-b184-49beff2dd443",
   "metadata": {},
   "outputs": [],
   "source": [
    "one_hot_type = pd.get_dummies(shop_features['車位'].map(lambda x: x.split('，')[0]))\n",
    "shop_features = shop_features.join(one_hot_type)\n",
    "shop_features = shop_features.drop('車位', axis=1)\n",
    "shop_features = shop_features.rename(columns={'無': '無車位'})"
   ]
  },
  {
   "cell_type": "code",
   "execution_count": 13,
   "id": "b6580fab-6c61-41ae-ac67-e27b0a7785f7",
   "metadata": {},
   "outputs": [],
   "source": [
    "shop_features['rental_price'] = shop_features['rental_price'].map(check_)"
   ]
  },
  {
   "cell_type": "code",
   "execution_count": 14,
   "id": "07ca26fa-5996-40cc-9335-e3fdfbe440b7",
   "metadata": {},
   "outputs": [
    {
     "data": {
      "text/plain": [
       "Index(['user_index', 'town', 'name', 'rental_price', 'size', 'floor',\n",
       "       'address', '小巷0/大路1', 'longitude', 'latitude', 'house_age', 'feature',\n",
       "       'MRT_within_lkm', 'Bus_within_lkm', 'MRT_name', 'MRT_distance', '管理費',\n",
       "       '裝潢', 'shop_within_lkm', '餐廳餐館', '其他綜合零售', '便利商店', '美容美髮服務', '日常用品零售',\n",
       "       '飲料店業', '其他餐飲業', '公寓', '別墅', '店面（店鋪）', '透天厝', '電梯大樓', '平面式停車位',\n",
       "       '機械式停車位', '無車位'],\n",
       "      dtype='object')"
      ]
     },
     "execution_count": 14,
     "metadata": {},
     "output_type": "execute_result"
    }
   ],
   "source": [
    "shop_features.columns"
   ]
  },
  {
   "cell_type": "code",
   "execution_count": 15,
   "id": "3a676624-cd3b-48ae-8787-d840a1b50454",
   "metadata": {},
   "outputs": [
    {
     "data": {
      "text/plain": [
       "Index(['TOWN', '人口數', 'AREA', 'bus_stops', 'MRT_stops', '0-14歲人口數',\n",
       "       '15-64歲人口數', '65歲以上人口數', '土地面積總數', '商業', '純住宅', '混合使用住宅', '批發及零售業',\n",
       "       '住宿及餐飲業', '藝術、娛樂及休閒服務業', 'X', 'Y', 'lon', 'lat', '人口密度', 'NIGHT_WORK',\n",
       "       'DAY_WORK(7:00~13:00)', 'DAY_WORK(13:00~19:00)', 'NIGHT_WEEKEND',\n",
       "       'DAY_WEEKEND(7:00~13:00)', 'DAY_WEEKEND(13:00~19:00)', 'MORNING_WORK',\n",
       "       'MIDDAY_WORK', 'AFTERNOON_WORK', 'EVENING_WORK', 'MORNING_WEEKEND',\n",
       "       'MIDDAY_WEEKEND', 'AFTERNOON_WEEKEND', 'EVENING_WEEKEND',\n",
       "       'house_price_unit_104', 'house_price_unit_105', 'house_price_unit_106',\n",
       "       'house_price_unit_107', 'house_price_unit_108', 'house_price_unit_109',\n",
       "       'shop_price_unit_104', 'shop_price_unit_105', 'shop_price_unit_106',\n",
       "       'shop_price_unit_107', 'shop_price_unit_108', 'shop_price_unit_109',\n",
       "       'office_price_unit_104', 'office_price_unit_105',\n",
       "       'office_price_unit_106', 'office_price_unit_107',\n",
       "       'office_price_unit_108', 'office_price_unit_109'],\n",
       "      dtype='object')"
      ]
     },
     "execution_count": 15,
     "metadata": {},
     "output_type": "execute_result"
    }
   ],
   "source": [
    "area_data.columns"
   ]
  },
  {
   "cell_type": "code",
   "execution_count": 16,
   "id": "18f6f39d-ce66-4983-8747-ecf1bb066c4b",
   "metadata": {},
   "outputs": [],
   "source": [
    "area_features = area_data\n",
    "#area_features = area_data[['TOWN', '0-14歲人口數', '15-64歲人口數', '65歲以上人口數', \n",
    "#              'DAY_WORK(7:00~13:00)', 'DAY_WORK(13:00~19:00)', 'NIGHT_WORK', \n",
    "#              'DAY_WEEKEND(7:00~13:00)', 'DAY_WEEKEND(13:00~19:00)', 'NIGHT_WEEKEND']]\n",
    "area_features = area_features.set_index('TOWN')"
   ]
  },
  {
   "cell_type": "code",
   "execution_count": 17,
   "id": "381c6301-06b1-4739-9b5c-e13a50861e44",
   "metadata": {},
   "outputs": [],
   "source": [
    "new_features = []\n",
    "for index, item in shop_features.iterrows():\n",
    "    tmp = area_features.loc[item['town']]\n",
    "    \n",
    "    new_features.append(pd.concat((item, tmp)))\n",
    "    #new_features.append(item)\n",
    "    \n",
    "new_features = pd.DataFrame(new_features)\n",
    "new_features = new_features.drop(columns=['town', 'floor'])"
   ]
  },
  {
   "cell_type": "code",
   "execution_count": 18,
   "id": "edc33035-d5c7-4103-9ef5-696f206a695f",
   "metadata": {},
   "outputs": [],
   "source": [
    "#new_features = new_features.applymap(check_)"
   ]
  },
  {
   "cell_type": "code",
   "execution_count": 19,
   "id": "afdb19fe-b307-4a8a-a96a-326db7f7010d",
   "metadata": {},
   "outputs": [],
   "source": [
    "new_features.to_csv(\"591shop_area.tsv\", sep=\"\\t\", index=None)"
   ]
  },
  {
   "cell_type": "code",
   "execution_count": null,
   "id": "bde1f840-1b34-4cb3-8914-d6e6a46d3194",
   "metadata": {},
   "outputs": [],
   "source": [
    "new_features['rental_price'] = np.log(new_features['rental_price'])\n",
    "new_features['size'] = np.log(new_features['size'])"
   ]
  },
  {
   "cell_type": "code",
   "execution_count": null,
   "id": "fb5f36c4-ee74-4df5-bf9a-cf39d122cf1c",
   "metadata": {},
   "outputs": [],
   "source": [
    "embedding = (new_features - new_features.mean()) / new_features.std()\n",
    "#embedding = embedding[['rental_price', 'size', 'MRT_within_lkm', 'house_age', '小巷0/大路1', '0-14歲人口數', '15-64歲人口數', '65歲以上人口數']]"
   ]
  },
  {
   "cell_type": "code",
   "execution_count": null,
   "id": "c60982b7-70fe-441d-8da0-a187b44e2779",
   "metadata": {},
   "outputs": [],
   "source": [
    "embedding.columns"
   ]
  },
  {
   "cell_type": "code",
   "execution_count": null,
   "id": "51edc75b-b0e3-43bf-91f2-fc519db7cf0c",
   "metadata": {},
   "outputs": [],
   "source": [
    "embedding.hist(figsize=(15, 12))\n",
    "plt.show()"
   ]
  },
  {
   "cell_type": "markdown",
   "id": "994027ef-15c7-48e5-88a1-c50544ab823c",
   "metadata": {},
   "source": [
    "# Testing"
   ]
  },
  {
   "cell_type": "code",
   "execution_count": null,
   "id": "fc9dc576-c32a-413d-acca-98781d9714c3",
   "metadata": {},
   "outputs": [],
   "source": [
    "from sklearn.metrics.pairwise import cosine_similarity"
   ]
  },
  {
   "cell_type": "code",
   "execution_count": null,
   "id": "6de6d19c-06c8-45a9-85c1-fb855d56f9ca",
   "metadata": {},
   "outputs": [],
   "source": [
    "scores = np.squeeze(cosine_similarity(embedding, embedding.iloc[[0]]))\n",
    "index = np.argsort(scores)[::-1]\n",
    "embedding.iloc[index]"
   ]
  },
  {
   "cell_type": "markdown",
   "id": "e073892e-e0ea-4909-bedf-94865a419a21",
   "metadata": {},
   "source": [
    "# Visualization"
   ]
  },
  {
   "cell_type": "code",
   "execution_count": null,
   "id": "cfe9117b-f627-485f-a3ca-4a46c813c35e",
   "metadata": {},
   "outputs": [],
   "source": [
    "from sklearn.manifold import TSNE\n",
    "from sklearn.decomposition import PCA"
   ]
  },
  {
   "cell_type": "code",
   "execution_count": null,
   "id": "c651c7df-1a41-4afe-bab1-76122b0eac61",
   "metadata": {},
   "outputs": [],
   "source": [
    "pca_results = PCA(n_components=2).fit_transform(embedding)\n",
    "tsne_results = TSNE(n_components=2, learning_rate='auto', init='pca', random_state=20).fit_transform(embedding)"
   ]
  },
  {
   "cell_type": "code",
   "execution_count": null,
   "id": "21c45c18-04e1-49fa-9d7b-87d2bc809a8c",
   "metadata": {},
   "outputs": [],
   "source": [
    "plt.style.use('ggplot')\n",
    "plt.figure(figsize=(15, 12))\n",
    "\n",
    "plt.subplot(1, 2, 1)\n",
    "sc = plt.scatter(pca_results[:, 0], pca_results[:, 1], alpha=0.8, s=30)#, cmap='rainbow')\n",
    "\n",
    "sc = plt.scatter(pca_results[0, 0], pca_results[0, 1], alpha=0.8, s=30, color='blue')#, cmap='rainbow')\n",
    "sc = plt.scatter(pca_results[8, 0], pca_results[8, 1], alpha=0.8, s=30, color='blue')#, cmap='rainbow')\n",
    "\n",
    "plt.subplot(1, 2, 2)\n",
    "sc = plt.scatter(tsne_results[:, 0], tsne_results[:, 1], alpha=0.8, s=30)#, cmap='rainbow')\n",
    "\n",
    "sc = plt.scatter(tsne_results[0, 0], tsne_results[0, 1], alpha=0.8, s=30, color='blue')#, cmap='rainbow')\n",
    "sc = plt.scatter(tsne_results[8, 0], tsne_results[8, 1], alpha=0.8, s=30, color='blue')#, cmap='rainbow')\n",
    "\n",
    "\n",
    "plt.show()"
   ]
  },
  {
   "cell_type": "code",
   "execution_count": null,
   "id": "c6aa65e3-c7f0-4cd7-9f3c-45a370fa09b8",
   "metadata": {},
   "outputs": [],
   "source": [
    "import tensorflow as tf"
   ]
  },
  {
   "cell_type": "code",
   "execution_count": null,
   "id": "03eb4e09-40ac-4272-97c8-3e89b1f7f926",
   "metadata": {},
   "outputs": [],
   "source": []
  }
 ],
 "metadata": {
  "kernelspec": {
   "display_name": "Python 3 (ipykernel)",
   "language": "python",
   "name": "python3"
  },
  "language_info": {
   "codemirror_mode": {
    "name": "ipython",
    "version": 3
   },
   "file_extension": ".py",
   "mimetype": "text/x-python",
   "name": "python",
   "nbconvert_exporter": "python",
   "pygments_lexer": "ipython3",
   "version": "3.8.10"
  }
 },
 "nbformat": 4,
 "nbformat_minor": 5
}
